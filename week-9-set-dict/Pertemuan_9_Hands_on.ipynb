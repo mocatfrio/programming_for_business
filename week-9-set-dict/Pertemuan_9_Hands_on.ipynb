{
  "nbformat": 4,
  "nbformat_minor": 0,
  "metadata": {
    "colab": {
      "provenance": []
    },
    "kernelspec": {
      "name": "python3",
      "display_name": "Python 3"
    },
    "language_info": {
      "name": "python"
    }
  },
  "cells": [
    {
      "cell_type": "markdown",
      "source": [
        "# Dictionary"
      ],
      "metadata": {
        "id": "5Erxn2p92Cxu"
      }
    },
    {
      "cell_type": "code",
      "source": [
        "mhs = {501: \"Hazwan\", 502: \"Sabrina\", 503: \"Ahmad\"}\n",
        "\n",
        "print(mhs)"
      ],
      "metadata": {
        "colab": {
          "base_uri": "https://localhost:8080/"
        },
        "id": "mz_Yxi-82Fix",
        "outputId": "1bd79228-bf30-4e6b-8786-dbc0fe8a6c74"
      },
      "execution_count": 1,
      "outputs": [
        {
          "output_type": "stream",
          "name": "stdout",
          "text": [
            "{501: 'Hazwan', 502: 'Sabrina', 503: 'Ahmad'}\n"
          ]
        }
      ]
    },
    {
      "cell_type": "code",
      "source": [
        "import pprint"
      ],
      "metadata": {
        "id": "H9XNQZPh2VM2"
      },
      "execution_count": 2,
      "outputs": []
    },
    {
      "cell_type": "code",
      "source": [
        "pprint.pprint(mhs)"
      ],
      "metadata": {
        "colab": {
          "base_uri": "https://localhost:8080/"
        },
        "id": "5GtQvDTB2YfP",
        "outputId": "570b87c5-8446-4ac4-cb98-a1913e88882b"
      },
      "execution_count": 5,
      "outputs": [
        {
          "output_type": "stream",
          "name": "stdout",
          "text": [
            "{501: 'Hazwan', 502: 'Sabrina', 503: 'Ahmad'}\n"
          ]
        }
      ]
    },
    {
      "cell_type": "code",
      "source": [
        "# Pakai array biasa\n",
        "mhs = [\"Hazwan\", \"Sabrina\"]"
      ],
      "metadata": {
        "id": "_L04bPgT2okb"
      },
      "execution_count": 6,
      "outputs": []
    },
    {
      "cell_type": "code",
      "source": [
        "print(mhs[0])"
      ],
      "metadata": {
        "colab": {
          "base_uri": "https://localhost:8080/"
        },
        "id": "jikOhG4R2vFW",
        "outputId": "e832e44d-ef44-4443-d730-e899c610f47d"
      },
      "execution_count": 8,
      "outputs": [
        {
          "output_type": "stream",
          "name": "stdout",
          "text": [
            "Hazwan\n"
          ]
        }
      ]
    },
    {
      "cell_type": "code",
      "source": [
        "mhs_dict = {501: \"Hazwan\", 502: \"Sabrina\", 503: \"Ahmad\"}"
      ],
      "metadata": {
        "id": "iUWYVYa526y6"
      },
      "execution_count": 10,
      "outputs": []
    },
    {
      "cell_type": "code",
      "source": [
        "print(mhs_dict[501])"
      ],
      "metadata": {
        "colab": {
          "base_uri": "https://localhost:8080/"
        },
        "id": "ISFj-YBW21MC",
        "outputId": "50639fe7-d101-4b23-f162-dcfed7ef726e"
      },
      "execution_count": 11,
      "outputs": [
        {
          "output_type": "stream",
          "name": "stdout",
          "text": [
            "Hazwan\n"
          ]
        }
      ]
    },
    {
      "cell_type": "code",
      "source": [
        "mhs_dict[501] = \"Hazwan Akbar\""
      ],
      "metadata": {
        "id": "2Wl18SsK3Czo"
      },
      "execution_count": 12,
      "outputs": []
    },
    {
      "cell_type": "code",
      "source": [
        "mhs_dict"
      ],
      "metadata": {
        "colab": {
          "base_uri": "https://localhost:8080/"
        },
        "id": "LaGFyYH43KJt",
        "outputId": "5f034c41-6d21-4d7b-cbfd-c83e72d45f71"
      },
      "execution_count": 13,
      "outputs": [
        {
          "output_type": "execute_result",
          "data": {
            "text/plain": [
              "{501: 'Hazwan Akbar', 502: 'Sabrina', 503: 'Ahmad'}"
            ]
          },
          "metadata": {},
          "execution_count": 13
        }
      ]
    },
    {
      "cell_type": "code",
      "source": [
        "nilai_mhs = {\"Hazwan\":90,\"Sabrina\":100}"
      ],
      "metadata": {
        "id": "V6YJolRD3NKY"
      },
      "execution_count": 14,
      "outputs": []
    },
    {
      "cell_type": "code",
      "source": [
        "nilai_mhs"
      ],
      "metadata": {
        "colab": {
          "base_uri": "https://localhost:8080/"
        },
        "id": "ZzKwrjlo3aTD",
        "outputId": "67e09810-dcd7-4e68-ac02-caaadb5c1046"
      },
      "execution_count": 15,
      "outputs": [
        {
          "output_type": "execute_result",
          "data": {
            "text/plain": [
              "{'Hazwan': 90, 'Sabrina': 100}"
            ]
          },
          "metadata": {},
          "execution_count": 15
        }
      ]
    },
    {
      "cell_type": "code",
      "source": [
        "print(\"Nilai Hazwan adalah\", nilai_mhs[\"Hazwan\"])"
      ],
      "metadata": {
        "colab": {
          "base_uri": "https://localhost:8080/"
        },
        "id": "b6Yr4Bnp3b_5",
        "outputId": "b46554f3-4ddf-43e8-9583-32d2815622df"
      },
      "execution_count": 16,
      "outputs": [
        {
          "output_type": "stream",
          "name": "stdout",
          "text": [
            "Nilai Hazwan adalah 90\n"
          ]
        }
      ]
    },
    {
      "cell_type": "code",
      "source": [
        "nilai_mhs[\"Syathir\"] = 100"
      ],
      "metadata": {
        "id": "pL73g7MW3qc7"
      },
      "execution_count": 17,
      "outputs": []
    },
    {
      "cell_type": "code",
      "source": [
        "nilai_mhs"
      ],
      "metadata": {
        "colab": {
          "base_uri": "https://localhost:8080/"
        },
        "id": "KINHYrKu3yhH",
        "outputId": "6aca4501-baba-43f5-f1f8-611dd0a6762b"
      },
      "execution_count": 18,
      "outputs": [
        {
          "output_type": "execute_result",
          "data": {
            "text/plain": [
              "{'Hazwan': 90, 'Sabrina': 100, 'Syathir': 100}"
            ]
          },
          "metadata": {},
          "execution_count": 18
        }
      ]
    },
    {
      "cell_type": "code",
      "source": [
        "del nilai_mhs[\"Sabrina\"]"
      ],
      "metadata": {
        "id": "GoGgZfKe34JP"
      },
      "execution_count": 19,
      "outputs": []
    },
    {
      "cell_type": "code",
      "source": [
        "nilai_mhs"
      ],
      "metadata": {
        "colab": {
          "base_uri": "https://localhost:8080/"
        },
        "id": "YrG1Pd9g375W",
        "outputId": "3a9cac96-2ad1-4a9c-8e19-9d37b833643b"
      },
      "execution_count": 20,
      "outputs": [
        {
          "output_type": "execute_result",
          "data": {
            "text/plain": [
              "{'Hazwan': 90, 'Syathir': 100}"
            ]
          },
          "metadata": {},
          "execution_count": 20
        }
      ]
    },
    {
      "cell_type": "code",
      "source": [
        "nilai_mhs_new = {\"Hasna\": 90, \"Rozan\": 80}"
      ],
      "metadata": {
        "id": "n9ilbYuV4Er5"
      },
      "execution_count": 21,
      "outputs": []
    },
    {
      "cell_type": "code",
      "source": [
        "nilai_mhs = nilai_mhs | nilai_mhs_new"
      ],
      "metadata": {
        "id": "V1Ku9jI_4_op"
      },
      "execution_count": 24,
      "outputs": []
    },
    {
      "cell_type": "code",
      "source": [
        "nilai_mhs"
      ],
      "metadata": {
        "colab": {
          "base_uri": "https://localhost:8080/"
        },
        "id": "-L8_7jvz4Ps0",
        "outputId": "00776419-892c-4df6-a559-5accc72e61e8"
      },
      "execution_count": 25,
      "outputs": [
        {
          "output_type": "execute_result",
          "data": {
            "text/plain": [
              "{'Hazwan': 90, 'Syathir': 100, 'Hasna': 90, 'Rozan': 80}"
            ]
          },
          "metadata": {},
          "execution_count": 25
        }
      ]
    },
    {
      "cell_type": "code",
      "source": [
        "arr1 = [0,1,2]\n",
        "arr2 = [3,4,5]\n",
        "\n",
        "arr3 = arr1 + arr2"
      ],
      "metadata": {
        "id": "HNfbMTlt5IUm"
      },
      "execution_count": 27,
      "outputs": []
    },
    {
      "cell_type": "code",
      "source": [
        "arr3"
      ],
      "metadata": {
        "colab": {
          "base_uri": "https://localhost:8080/"
        },
        "id": "icNU0RAh5R55",
        "outputId": "a9022962-76ca-4577-e161-1b9c63f8c034"
      },
      "execution_count": 28,
      "outputs": [
        {
          "output_type": "execute_result",
          "data": {
            "text/plain": [
              "[0, 1, 2, 3, 4, 5]"
            ]
          },
          "metadata": {},
          "execution_count": 28
        }
      ]
    },
    {
      "cell_type": "code",
      "source": [
        "nilai_mhs"
      ],
      "metadata": {
        "colab": {
          "base_uri": "https://localhost:8080/"
        },
        "id": "AFKnJ_-V5VpS",
        "outputId": "727be00c-90b6-4fdd-84c9-6c74d0fb98bb"
      },
      "execution_count": 29,
      "outputs": [
        {
          "output_type": "execute_result",
          "data": {
            "text/plain": [
              "{'Hazwan': 90, 'Syathir': 100, 'Hasna': 90, 'Rozan': 80}"
            ]
          },
          "metadata": {},
          "execution_count": 29
        }
      ]
    },
    {
      "cell_type": "code",
      "source": [
        "# Loop\n",
        "for nama, nilai in nilai_mhs.items():\n",
        "  print(\"Mahasiswa bernama\", nama, \"mendapatkan nilai\", nilai)"
      ],
      "metadata": {
        "colab": {
          "base_uri": "https://localhost:8080/"
        },
        "id": "PRDKmpbe5Z5M",
        "outputId": "147f76ad-e046-4aee-f877-7a978336cd14"
      },
      "execution_count": 35,
      "outputs": [
        {
          "output_type": "stream",
          "name": "stdout",
          "text": [
            "Mahasiswa bernama Hazwan mendapatkan nilai 90\n",
            "Mahasiswa bernama Syathir mendapatkan nilai 100\n",
            "Mahasiswa bernama Hasna mendapatkan nilai 90\n",
            "Mahasiswa bernama Rozan mendapatkan nilai 80\n"
          ]
        }
      ]
    },
    {
      "cell_type": "code",
      "source": [],
      "metadata": {
        "id": "40SXcNfm8pM4"
      },
      "execution_count": null,
      "outputs": []
    },
    {
      "cell_type": "code",
      "source": [
        "for nama, nilai in nilai_mhs.items():\n",
        "  if nilai > 80:\n",
        "    print (\"Wah,\", nama, \"keren!\")\n",
        "  else:\n",
        "    print (\"Ayo,\", nama, \"belajar lagi!\")"
      ],
      "metadata": {
        "colab": {
          "base_uri": "https://localhost:8080/"
        },
        "id": "1ULFTp_r6pfy",
        "outputId": "658b042e-aa56-4244-df77-b48eb843a951"
      },
      "execution_count": 37,
      "outputs": [
        {
          "output_type": "stream",
          "name": "stdout",
          "text": [
            "Wah, Hazwan keren!\n",
            "Wah, Syathir keren!\n",
            "Wah, Hasna keren!\n",
            "Ayo, Rozan belajar lagi!\n"
          ]
        }
      ]
    },
    {
      "cell_type": "code",
      "source": [
        "data_mhs = {\n",
        "    501: {\n",
        "        \"nama\": \"Hazwan\",\n",
        "        \"alamat\": \"Keputih\",\n",
        "        \"nilai\": 100\n",
        "    },\n",
        "    502: {\n",
        "        \"nama\": \"Sabrina\",\n",
        "        \"alamat\": \"Malang\",\n",
        "        \"nilai\": 90\n",
        "    },\n",
        "    503: {\n",
        "        \"nama\": \"Ahmad\",\n",
        "        \"alamat\": \"Mulyosari\",\n",
        "        \"nilai\": 95\n",
        "    },\n",
        "}"
      ],
      "metadata": {
        "id": "vBKdAaDw6c3d"
      },
      "execution_count": 38,
      "outputs": []
    },
    {
      "cell_type": "code",
      "source": [
        "data_mhs"
      ],
      "metadata": {
        "colab": {
          "base_uri": "https://localhost:8080/"
        },
        "id": "GoG4tB447571",
        "outputId": "8ffee2d1-986b-4fca-d754-4716affc50b7"
      },
      "execution_count": 39,
      "outputs": [
        {
          "output_type": "execute_result",
          "data": {
            "text/plain": [
              "{501: {'nama': 'Hazwan', 'alamat': 'Keputih', 'nilai': 100},\n",
              " 502: {'nama': 'Sabrina', 'alamat': 'Malang', 'nilai': 90},\n",
              " 503: {'nama': 'Ahmad', 'alamat': 'Mulyosari', 'nilai': 95}}"
            ]
          },
          "metadata": {},
          "execution_count": 39
        }
      ]
    },
    {
      "cell_type": "code",
      "source": [
        "data_mhs[501][\"nama\"]"
      ],
      "metadata": {
        "colab": {
          "base_uri": "https://localhost:8080/",
          "height": 35
        },
        "id": "jif7HKIv8AKf",
        "outputId": "0e48fa03-1a03-4edb-d5b0-07ca48e0c22e"
      },
      "execution_count": 40,
      "outputs": [
        {
          "output_type": "execute_result",
          "data": {
            "text/plain": [
              "'Hazwan'"
            ],
            "application/vnd.google.colaboratory.intrinsic+json": {
              "type": "string"
            }
          },
          "metadata": {},
          "execution_count": 40
        }
      ]
    },
    {
      "cell_type": "code",
      "source": [
        "data_mhs[501][\"alamat\"] = \"Keputih Tegal Timur\""
      ],
      "metadata": {
        "id": "k8KpWuSC8FSo"
      },
      "execution_count": 41,
      "outputs": []
    },
    {
      "cell_type": "code",
      "source": [
        "data_mhs"
      ],
      "metadata": {
        "colab": {
          "base_uri": "https://localhost:8080/"
        },
        "id": "w_RW62d18KPD",
        "outputId": "2cc38a27-5295-4642-ce9c-4d09b7f9516f"
      },
      "execution_count": 42,
      "outputs": [
        {
          "output_type": "execute_result",
          "data": {
            "text/plain": [
              "{501: {'nama': 'Hazwan', 'alamat': 'Keputih Tegal Timur', 'nilai': 100},\n",
              " 502: {'nama': 'Sabrina', 'alamat': 'Malang', 'nilai': 90},\n",
              " 503: {'nama': 'Ahmad', 'alamat': 'Mulyosari', 'nilai': 95}}"
            ]
          },
          "metadata": {},
          "execution_count": 42
        }
      ]
    },
    {
      "cell_type": "code",
      "source": [
        "data_mhs[501] = {\n",
        "                    \"nama\": \"Hazwan Akbar\",\n",
        "                    \"alamat\": \"Gebang\",\n",
        "                    \"nilai\": 98\n",
        "                }"
      ],
      "metadata": {
        "id": "E0eAJLTG8QyW"
      },
      "execution_count": 43,
      "outputs": []
    },
    {
      "cell_type": "code",
      "source": [
        "data_mhs"
      ],
      "metadata": {
        "colab": {
          "base_uri": "https://localhost:8080/"
        },
        "id": "vIQNKRH-8Zvl",
        "outputId": "445c37cc-1a1a-4bff-ac52-9b6d57fdccd8"
      },
      "execution_count": 44,
      "outputs": [
        {
          "output_type": "execute_result",
          "data": {
            "text/plain": [
              "{501: {'nama': 'Hazwan Akbar', 'alamat': 'Gebang', 'nilai': 98},\n",
              " 502: {'nama': 'Sabrina', 'alamat': 'Malang', 'nilai': 90},\n",
              " 503: {'nama': 'Ahmad', 'alamat': 'Mulyosari', 'nilai': 95}}"
            ]
          },
          "metadata": {},
          "execution_count": 44
        }
      ]
    },
    {
      "cell_type": "code",
      "source": [
        "for nama, nilai in nilai_mhs.items():\n",
        "  print(\"Mahasiswa bernama\", nama, \"mendapatkan nilai\", nilai)"
      ],
      "metadata": {
        "colab": {
          "base_uri": "https://localhost:8080/"
        },
        "id": "gK86EDNl8qNi",
        "outputId": "63c29aa6-19ab-4ee0-8bf4-c54855c0a741"
      },
      "execution_count": 46,
      "outputs": [
        {
          "output_type": "stream",
          "name": "stdout",
          "text": [
            "Mahasiswa bernama Hazwan mendapatkan nilai 90\n",
            "Mahasiswa bernama Syathir mendapatkan nilai 100\n",
            "Mahasiswa bernama Hasna mendapatkan nilai 90\n",
            "Mahasiswa bernama Rozan mendapatkan nilai 80\n"
          ]
        }
      ]
    },
    {
      "cell_type": "code",
      "source": [
        "data_mhs[501] = {\n",
        "\"nama\": \"Hazwan Akbar\",\n",
        "\"alamat\": \"Gebang\",\n",
        "\"nilai\": 98\n",
        "}"
      ],
      "metadata": {
        "id": "VqEnxIjX8u83"
      },
      "execution_count": 48,
      "outputs": []
    },
    {
      "cell_type": "code",
      "source": [
        "data_mhs"
      ],
      "metadata": {
        "colab": {
          "base_uri": "https://localhost:8080/"
        },
        "id": "LIxnwv6a8yui",
        "outputId": "4b9a03d3-e261-4005-f6ed-251a3a79add2"
      },
      "execution_count": 49,
      "outputs": [
        {
          "output_type": "execute_result",
          "data": {
            "text/plain": [
              "{501: {'nama': 'Hazwan Akbar', 'alamat': 'Gebang', 'nilai': 98},\n",
              " 502: {'nama': 'Sabrina', 'alamat': 'Malang', 'nilai': 90},\n",
              " 503: {'nama': 'Ahmad', 'alamat': 'Mulyosari', 'nilai': 95}}"
            ]
          },
          "metadata": {},
          "execution_count": 49
        }
      ]
    },
    {
      "cell_type": "code",
      "source": [
        "for nrp, data in data_mhs.items():\n",
        "  print(\"Data NRP\", nrp, \"memiliki data sebagai berikut:\")\n",
        "  for key in data.keys():\n",
        "    print(\"   \", key.upper(), \":\", data[key])"
      ],
      "metadata": {
        "colab": {
          "base_uri": "https://localhost:8080/"
        },
        "id": "9pKQWYut9lK9",
        "outputId": "732fa372-a12c-403a-96d8-d6201a30c02c"
      },
      "execution_count": 59,
      "outputs": [
        {
          "output_type": "stream",
          "name": "stdout",
          "text": [
            "Data NRP 501 memiliki data sebagai berikut:\n",
            "    NAMA : Hazwan Akbar\n",
            "    ALAMAT : Gebang\n",
            "    NILAI : 98\n",
            "Data NRP 502 memiliki data sebagai berikut:\n",
            "    NAMA : Sabrina\n",
            "    ALAMAT : Malang\n",
            "    NILAI : 90\n",
            "Data NRP 503 memiliki data sebagai berikut:\n",
            "    NAMA : Ahmad\n",
            "    ALAMAT : Mulyosari\n",
            "    NILAI : 95\n"
          ]
        }
      ]
    },
    {
      "cell_type": "code",
      "source": [
        "for key, value in data_mhs.items():\n",
        "  print(\"Data NRP\", key, \"memiliki data sebagai berikut:\")\n",
        "  for key1, value1 in value.items():\n",
        "    print(\"   \", key1.upper(), \":\", value1)"
      ],
      "metadata": {
        "colab": {
          "base_uri": "https://localhost:8080/"
        },
        "id": "Wxniqdi7_q5H",
        "outputId": "e25951e3-bbc3-443b-ede1-6b9aad051352"
      },
      "execution_count": 65,
      "outputs": [
        {
          "output_type": "stream",
          "name": "stdout",
          "text": [
            "Data NRP 501 memiliki data sebagai berikut:\n",
            "    NAMA : Hazwan Akbar\n",
            "    ALAMAT : Gebang\n",
            "    NILAI : 98\n",
            "Data NRP 502 memiliki data sebagai berikut:\n",
            "    NAMA : Sabrina\n",
            "    ALAMAT : Malang\n",
            "    NILAI : 90\n",
            "Data NRP 503 memiliki data sebagai berikut:\n",
            "    NAMA : Ahmad\n",
            "    ALAMAT : Mulyosari\n",
            "    NILAI : 95\n"
          ]
        }
      ]
    },
    {
      "cell_type": "code",
      "source": [
        "for key, value in data_mhs.items():\n",
        "  print(\"Ini key saja\")\n",
        "  for key1 in value.keys():\n",
        "    print(key1)"
      ],
      "metadata": {
        "colab": {
          "base_uri": "https://localhost:8080/"
        },
        "id": "ipGPpk_RAeZ5",
        "outputId": "4deab443-f51d-4a9e-c98a-a2a3ab900b90"
      },
      "execution_count": 67,
      "outputs": [
        {
          "output_type": "stream",
          "name": "stdout",
          "text": [
            "Ini key saja\n",
            "nama\n",
            "alamat\n",
            "nilai\n",
            "Ini key saja\n",
            "nama\n",
            "alamat\n",
            "nilai\n",
            "Ini key saja\n",
            "nama\n",
            "alamat\n",
            "nilai\n"
          ]
        }
      ]
    },
    {
      "cell_type": "code",
      "source": [
        "for key, value in data_mhs.items():\n",
        "  print(\"Ini value saja\")\n",
        "  for value1 in value.values():\n",
        "    print(value1)"
      ],
      "metadata": {
        "colab": {
          "base_uri": "https://localhost:8080/"
        },
        "id": "L6UAcs5-AfWV",
        "outputId": "98437ee6-576d-49ec-d4d5-bdf7222a9db1"
      },
      "execution_count": 68,
      "outputs": [
        {
          "output_type": "stream",
          "name": "stdout",
          "text": [
            "Ini value saja\n",
            "Hazwan Akbar\n",
            "Gebang\n",
            "98\n",
            "Ini value saja\n",
            "Sabrina\n",
            "Malang\n",
            "90\n",
            "Ini value saja\n",
            "Ahmad\n",
            "Mulyosari\n",
            "95\n"
          ]
        }
      ]
    },
    {
      "cell_type": "markdown",
      "source": [
        "# Sets"
      ],
      "metadata": {
        "id": "7gIL13ocBMbf"
      }
    },
    {
      "cell_type": "code",
      "source": [
        "arr = [1,1,2,8,7,4,4,3,2,2,9,10]"
      ],
      "metadata": {
        "id": "ZkUeiwIGBOs1"
      },
      "execution_count": 69,
      "outputs": []
    },
    {
      "cell_type": "code",
      "source": [
        "arr"
      ],
      "metadata": {
        "colab": {
          "base_uri": "https://localhost:8080/"
        },
        "id": "rneF8sfHBXPt",
        "outputId": "d17d0a14-2024-4ad6-bbfe-ca4ca191b315"
      },
      "execution_count": 70,
      "outputs": [
        {
          "output_type": "execute_result",
          "data": {
            "text/plain": [
              "[1, 1, 2, 8, 7, 4, 4, 3, 2, 2, 9, 10]"
            ]
          },
          "metadata": {},
          "execution_count": 70
        }
      ]
    },
    {
      "cell_type": "code",
      "source": [
        "set(arr)"
      ],
      "metadata": {
        "colab": {
          "base_uri": "https://localhost:8080/"
        },
        "id": "Olp1BwaZBXtq",
        "outputId": "3cf9b2de-a2be-403e-dd0e-ff152709c4be"
      },
      "execution_count": 71,
      "outputs": [
        {
          "output_type": "execute_result",
          "data": {
            "text/plain": [
              "{1, 2, 3, 4, 7, 8, 9, 10}"
            ]
          },
          "metadata": {},
          "execution_count": 71
        }
      ]
    },
    {
      "cell_type": "code",
      "source": [
        "hashtag = [\"#viral\", \"#fyp\", \"#explore\", \"#trending\", \"#indonesia\",\"#viral\", \"#fyp\", \"#explore\", \"#trending\", \"#indonesia\", \"#kekinian\", \"#contentcreator\", \"#rekomendasi\", \"#harini\", \"#daily\", \"#ootd\", \"#kuliner\", \"#travel\", \"#lifestyle\", \"#tekno\", \"#edukasi\", \"#motivasi\", \"#bisnis\", \"#umkm\", \"#review\", \"#howto\", \"#tiktokindonesia\", \"#instagram\", \"#shorts\", \"#like\", \"#follow\", \"#komunitas\", \"#creators\", \"#tipsandtricks\", \"#inspo\"]\n"
      ],
      "metadata": {
        "id": "qr7NZY-jBzuI"
      },
      "execution_count": 73,
      "outputs": []
    },
    {
      "cell_type": "code",
      "source": [
        "hashtag"
      ],
      "metadata": {
        "colab": {
          "base_uri": "https://localhost:8080/"
        },
        "id": "HRuIG5wIB4y3",
        "outputId": "f1f014aa-9fdb-4582-d9d3-38b7cae587a5"
      },
      "execution_count": 74,
      "outputs": [
        {
          "output_type": "execute_result",
          "data": {
            "text/plain": [
              "['#viral',\n",
              " '#fyp',\n",
              " '#explore',\n",
              " '#trending',\n",
              " '#indonesia',\n",
              " '#viral',\n",
              " '#fyp',\n",
              " '#explore',\n",
              " '#trending',\n",
              " '#indonesia',\n",
              " '#kekinian',\n",
              " '#contentcreator',\n",
              " '#rekomendasi',\n",
              " '#harini',\n",
              " '#daily',\n",
              " '#ootd',\n",
              " '#kuliner',\n",
              " '#travel',\n",
              " '#lifestyle',\n",
              " '#tekno',\n",
              " '#edukasi',\n",
              " '#motivasi',\n",
              " '#bisnis',\n",
              " '#umkm',\n",
              " '#review',\n",
              " '#howto',\n",
              " '#tiktokindonesia',\n",
              " '#instagram',\n",
              " '#shorts',\n",
              " '#like',\n",
              " '#follow',\n",
              " '#komunitas',\n",
              " '#creators',\n",
              " '#tipsandtricks',\n",
              " '#inspo']"
            ]
          },
          "metadata": {},
          "execution_count": 74
        }
      ]
    },
    {
      "cell_type": "code",
      "source": [
        "len(hashtag)"
      ],
      "metadata": {
        "colab": {
          "base_uri": "https://localhost:8080/"
        },
        "id": "2MOd6Pi0B67k",
        "outputId": "e993fc29-606b-4679-f8b4-3c831e3b5654"
      },
      "execution_count": 75,
      "outputs": [
        {
          "output_type": "execute_result",
          "data": {
            "text/plain": [
              "35"
            ]
          },
          "metadata": {},
          "execution_count": 75
        }
      ]
    },
    {
      "cell_type": "code",
      "source": [
        "set_hashtag = set(hashtag)"
      ],
      "metadata": {
        "id": "pHRbUf-5B-Gd"
      },
      "execution_count": 79,
      "outputs": []
    },
    {
      "cell_type": "code",
      "source": [
        "set_hashtag"
      ],
      "metadata": {
        "colab": {
          "base_uri": "https://localhost:8080/"
        },
        "id": "zPfSZCHtCHCS",
        "outputId": "a7925600-0c9e-4eeb-9ee9-64b039901e8e"
      },
      "execution_count": 80,
      "outputs": [
        {
          "output_type": "execute_result",
          "data": {
            "text/plain": [
              "{'#bisnis',\n",
              " '#contentcreator',\n",
              " '#creators',\n",
              " '#daily',\n",
              " '#edukasi',\n",
              " '#explore',\n",
              " '#follow',\n",
              " '#fyp',\n",
              " '#harini',\n",
              " '#howto',\n",
              " '#indonesia',\n",
              " '#inspo',\n",
              " '#instagram',\n",
              " '#kekinian',\n",
              " '#komunitas',\n",
              " '#kuliner',\n",
              " '#lifestyle',\n",
              " '#like',\n",
              " '#motivasi',\n",
              " '#ootd',\n",
              " '#rekomendasi',\n",
              " '#review',\n",
              " '#shorts',\n",
              " '#tekno',\n",
              " '#tiktokindonesia',\n",
              " '#tipsandtricks',\n",
              " '#travel',\n",
              " '#trending',\n",
              " '#umkm',\n",
              " '#viral'}"
            ]
          },
          "metadata": {},
          "execution_count": 80
        }
      ]
    },
    {
      "cell_type": "code",
      "source": [
        "len(set_hashtag)"
      ],
      "metadata": {
        "colab": {
          "base_uri": "https://localhost:8080/"
        },
        "id": "GpjdOERKB_ry",
        "outputId": "fee0a7c7-d152-416e-fbc1-badd4c45d6bd"
      },
      "execution_count": 81,
      "outputs": [
        {
          "output_type": "execute_result",
          "data": {
            "text/plain": [
              "30"
            ]
          },
          "metadata": {},
          "execution_count": 81
        }
      ]
    },
    {
      "cell_type": "code",
      "source": [
        "hashtag.append(\"coba\")"
      ],
      "metadata": {
        "id": "Cu6lNis3CeSc"
      },
      "execution_count": 85,
      "outputs": []
    },
    {
      "cell_type": "code",
      "source": [
        "hashtag"
      ],
      "metadata": {
        "colab": {
          "base_uri": "https://localhost:8080/"
        },
        "id": "KHxE8bU8CCAa",
        "outputId": "e4e6280c-bbaf-43cd-be2f-5a894b5fe199"
      },
      "execution_count": 86,
      "outputs": [
        {
          "output_type": "execute_result",
          "data": {
            "text/plain": [
              "['#viral',\n",
              " '#fyp',\n",
              " '#explore',\n",
              " '#trending',\n",
              " '#indonesia',\n",
              " '#viral',\n",
              " '#fyp',\n",
              " '#explore',\n",
              " '#trending',\n",
              " '#indonesia',\n",
              " '#kekinian',\n",
              " '#contentcreator',\n",
              " '#rekomendasi',\n",
              " '#harini',\n",
              " '#daily',\n",
              " '#ootd',\n",
              " '#kuliner',\n",
              " '#travel',\n",
              " '#lifestyle',\n",
              " '#tekno',\n",
              " '#edukasi',\n",
              " '#motivasi',\n",
              " '#bisnis',\n",
              " '#umkm',\n",
              " '#review',\n",
              " '#howto',\n",
              " '#tiktokindonesia',\n",
              " '#instagram',\n",
              " '#shorts',\n",
              " '#like',\n",
              " '#follow',\n",
              " '#komunitas',\n",
              " '#creators',\n",
              " '#tipsandtricks',\n",
              " '#inspo',\n",
              " 'coba']"
            ]
          },
          "metadata": {},
          "execution_count": 86
        }
      ]
    },
    {
      "cell_type": "code",
      "source": [
        "set_hashtag.add(\"coba\")"
      ],
      "metadata": {
        "id": "-Z2mWT1FC0pr"
      },
      "execution_count": 87,
      "outputs": []
    },
    {
      "cell_type": "code",
      "source": [
        "set_hashtag"
      ],
      "metadata": {
        "colab": {
          "base_uri": "https://localhost:8080/"
        },
        "id": "PIrDblgvC2_2",
        "outputId": "5f0c41a2-54fd-458c-b65f-55afe3b735aa"
      },
      "execution_count": 88,
      "outputs": [
        {
          "output_type": "execute_result",
          "data": {
            "text/plain": [
              "{'#bisnis',\n",
              " '#contentcreator',\n",
              " '#creators',\n",
              " '#daily',\n",
              " '#edukasi',\n",
              " '#explore',\n",
              " '#follow',\n",
              " '#fyp',\n",
              " '#harini',\n",
              " '#howto',\n",
              " '#indonesia',\n",
              " '#inspo',\n",
              " '#instagram',\n",
              " '#kekinian',\n",
              " '#komunitas',\n",
              " '#kuliner',\n",
              " '#lifestyle',\n",
              " '#like',\n",
              " '#motivasi',\n",
              " '#ootd',\n",
              " '#rekomendasi',\n",
              " '#review',\n",
              " '#shorts',\n",
              " '#tekno',\n",
              " '#tiktokindonesia',\n",
              " '#tipsandtricks',\n",
              " '#travel',\n",
              " '#trending',\n",
              " '#umkm',\n",
              " '#viral',\n",
              " 'coba'}"
            ]
          },
          "metadata": {},
          "execution_count": 88
        }
      ]
    },
    {
      "cell_type": "code",
      "source": [
        "set_hashtag_baru = ['#lifestyle',\n",
        " '#like',\n",
        " '#motivasi',\n",
        " '#ootd',\n",
        " '#rekomendasi',\n",
        " '#review',\n",
        " '#shorts']"
      ],
      "metadata": {
        "id": "M_mNiliADCGz"
      },
      "execution_count": 89,
      "outputs": []
    },
    {
      "cell_type": "code",
      "source": [
        "set_hashtag_baru"
      ],
      "metadata": {
        "colab": {
          "base_uri": "https://localhost:8080/"
        },
        "id": "i_iHHsSwDM4I",
        "outputId": "f5e32c4e-7cc2-4f82-f188-a78cfd9b70be"
      },
      "execution_count": 90,
      "outputs": [
        {
          "output_type": "execute_result",
          "data": {
            "text/plain": [
              "['#lifestyle',\n",
              " '#like',\n",
              " '#motivasi',\n",
              " '#ootd',\n",
              " '#rekomendasi',\n",
              " '#review',\n",
              " '#shorts']"
            ]
          },
          "metadata": {},
          "execution_count": 90
        }
      ]
    },
    {
      "cell_type": "code",
      "source": [
        "set_hashtag.isdisjoint(set_hashtag_baru)"
      ],
      "metadata": {
        "colab": {
          "base_uri": "https://localhost:8080/"
        },
        "id": "u2x5YOxnDPkO",
        "outputId": "de677950-f83b-4ad7-b0e6-98794fbf6068"
      },
      "execution_count": 97,
      "outputs": [
        {
          "output_type": "execute_result",
          "data": {
            "text/plain": [
              "False"
            ]
          },
          "metadata": {},
          "execution_count": 97
        }
      ]
    },
    {
      "cell_type": "code",
      "source": [
        "set_hashtag_baru = set(set_hashtag_baru)"
      ],
      "metadata": {
        "id": "2lyAzY2CDcIv"
      },
      "execution_count": 94,
      "outputs": []
    },
    {
      "cell_type": "code",
      "source": [
        "set_hashtag_baru.issubset(set_hashtag)"
      ],
      "metadata": {
        "colab": {
          "base_uri": "https://localhost:8080/"
        },
        "id": "rMcuAlpmDnpa",
        "outputId": "8d8be36c-7ed0-47b0-8e13-063f0f56f765"
      },
      "execution_count": 98,
      "outputs": [
        {
          "output_type": "execute_result",
          "data": {
            "text/plain": [
              "True"
            ]
          },
          "metadata": {},
          "execution_count": 98
        }
      ]
    },
    {
      "cell_type": "code",
      "source": [
        "set_hashtag.issuperset(set_hashtag_baru)"
      ],
      "metadata": {
        "colab": {
          "base_uri": "https://localhost:8080/"
        },
        "id": "Jun8_ZMjD_kw",
        "outputId": "75c0540c-3d40-43ff-fda7-2e8b5a49cfca"
      },
      "execution_count": 99,
      "outputs": [
        {
          "output_type": "execute_result",
          "data": {
            "text/plain": [
              "True"
            ]
          },
          "metadata": {},
          "execution_count": 99
        }
      ]
    },
    {
      "cell_type": "code",
      "source": [
        "set_hashtag_baru = set(['hashtagbaru'])"
      ],
      "metadata": {
        "id": "CDV0LMXREGBM"
      },
      "execution_count": 101,
      "outputs": []
    },
    {
      "cell_type": "code",
      "source": [
        "set_hashtag.isdisjoint(set_hashtag_baru)"
      ],
      "metadata": {
        "colab": {
          "base_uri": "https://localhost:8080/"
        },
        "id": "lfF--hDKEP61",
        "outputId": "6ac90e21-3b63-4389-f00f-7a609e500707"
      },
      "execution_count": 102,
      "outputs": [
        {
          "output_type": "execute_result",
          "data": {
            "text/plain": [
              "True"
            ]
          },
          "metadata": {},
          "execution_count": 102
        }
      ]
    },
    {
      "cell_type": "markdown",
      "source": [
        "# Booleans"
      ],
      "metadata": {
        "id": "bA948h6NEimZ"
      }
    },
    {
      "cell_type": "code",
      "source": [
        "nilai_mhs"
      ],
      "metadata": {
        "colab": {
          "base_uri": "https://localhost:8080/"
        },
        "id": "d-iEriauEqav",
        "outputId": "670abc22-e34a-456d-c1cd-af51e639bb92"
      },
      "execution_count": 103,
      "outputs": [
        {
          "output_type": "execute_result",
          "data": {
            "text/plain": [
              "{'Hazwan': 90, 'Syathir': 100, 'Hasna': 90, 'Rozan': 80}"
            ]
          },
          "metadata": {},
          "execution_count": 103
        }
      ]
    },
    {
      "cell_type": "code",
      "source": [
        "nilai_batas = 70"
      ],
      "metadata": {
        "id": "U0vgOdeIEkNg"
      },
      "execution_count": 105,
      "outputs": []
    },
    {
      "cell_type": "code",
      "source": [
        "status = nilai_mhs[\"Hazwan\"] > nilai_batas"
      ],
      "metadata": {
        "id": "1rxA4kisEaJn"
      },
      "execution_count": 106,
      "outputs": []
    },
    {
      "cell_type": "code",
      "source": [
        "status"
      ],
      "metadata": {
        "colab": {
          "base_uri": "https://localhost:8080/"
        },
        "id": "U533UBLQEzcU",
        "outputId": "13d7721b-6902-412e-841c-70c3097cacc8"
      },
      "execution_count": 107,
      "outputs": [
        {
          "output_type": "execute_result",
          "data": {
            "text/plain": [
              "True"
            ]
          },
          "metadata": {},
          "execution_count": 107
        }
      ]
    },
    {
      "cell_type": "code",
      "source": [
        "status = None\n",
        "for key, value in nilai_mhs.items():\n",
        "  status = value < nilai_batas\n",
        "\n",
        "if status == True:\n",
        "  print(\"Ada Mahasiswa yang tidak lulus\")\n",
        "else:\n",
        "  print(\"Alhamdulillah lulus semua :D\")\n"
      ],
      "metadata": {
        "colab": {
          "base_uri": "https://localhost:8080/"
        },
        "id": "GskJXlbLE31P",
        "outputId": "22bb80c0-da8e-4169-fd0f-d4b0e4729d91"
      },
      "execution_count": 109,
      "outputs": [
        {
          "output_type": "stream",
          "name": "stdout",
          "text": [
            "Alhamdulillah lulus semua :D\n"
          ]
        }
      ]
    },
    {
      "cell_type": "code",
      "source": [],
      "metadata": {
        "id": "S4Rih0kgFxF6"
      },
      "execution_count": null,
      "outputs": []
    },
    {
      "cell_type": "markdown",
      "source": [
        "# Tuples"
      ],
      "metadata": {
        "id": "xUvOfdfiFxcH"
      }
    },
    {
      "cell_type": "code",
      "source": [
        "warna = (\"red\", \"green\", \"yellow\")"
      ],
      "metadata": {
        "id": "oa4AzRp6FyN_"
      },
      "execution_count": 110,
      "outputs": []
    },
    {
      "cell_type": "code",
      "source": [
        "warna"
      ],
      "metadata": {
        "colab": {
          "base_uri": "https://localhost:8080/"
        },
        "id": "lzR6e4eQF3J3",
        "outputId": "d7da66d3-6f17-46fe-d312-0af6c8a45895"
      },
      "execution_count": 111,
      "outputs": [
        {
          "output_type": "execute_result",
          "data": {
            "text/plain": [
              "('red', 'green', 'yellow')"
            ]
          },
          "metadata": {},
          "execution_count": 111
        }
      ]
    },
    {
      "cell_type": "code",
      "source": [
        "warna[0] = \"reddd\""
      ],
      "metadata": {
        "colab": {
          "base_uri": "https://localhost:8080/",
          "height": 141
        },
        "id": "Sm8KfUOQF4Y0",
        "outputId": "436e69c5-6c62-4242-8275-e4bdd1d217c9"
      },
      "execution_count": 113,
      "outputs": [
        {
          "output_type": "error",
          "ename": "TypeError",
          "evalue": "'tuple' object does not support item assignment",
          "traceback": [
            "\u001b[0;31m---------------------------------------------------------------------------\u001b[0m",
            "\u001b[0;31mTypeError\u001b[0m                                 Traceback (most recent call last)",
            "\u001b[0;32m/tmp/ipython-input-1454792565.py\u001b[0m in \u001b[0;36m<cell line: 0>\u001b[0;34m()\u001b[0m\n\u001b[0;32m----> 1\u001b[0;31m \u001b[0mwarna\u001b[0m\u001b[0;34m[\u001b[0m\u001b[0;36m0\u001b[0m\u001b[0;34m]\u001b[0m \u001b[0;34m=\u001b[0m \u001b[0;34m\"reddd\"\u001b[0m\u001b[0;34m\u001b[0m\u001b[0;34m\u001b[0m\u001b[0m\n\u001b[0m",
            "\u001b[0;31mTypeError\u001b[0m: 'tuple' object does not support item assignment"
          ]
        }
      ]
    },
    {
      "cell_type": "code",
      "source": [
        "data_mhs = {\n",
        "    (501, \"Hazwan\"): {\n",
        "        \"nama_lengkap\": \"Hazwan AKbar\",\n",
        "        \"alamat\": \"Keputih\"\n",
        "    },\n",
        "    (502, \"Sabrina\"): {\n",
        "        \"nama_lengkap\": \"Sabrina\",\n",
        "        \"alamat\": \"Mulyosari\"\n",
        "    },\n",
        "}"
      ],
      "metadata": {
        "id": "kbgFY6ZvGPxi"
      },
      "execution_count": 114,
      "outputs": []
    },
    {
      "cell_type": "code",
      "source": [
        "data_mhs"
      ],
      "metadata": {
        "colab": {
          "base_uri": "https://localhost:8080/"
        },
        "id": "PDUmIoVVGfkG",
        "outputId": "205fdebd-ca5b-4e51-eedf-5e5ddadc4909"
      },
      "execution_count": 115,
      "outputs": [
        {
          "output_type": "execute_result",
          "data": {
            "text/plain": [
              "{(501, 'Hazwan'): {'nama_lengkap': 'Hazwan AKbar', 'alamat': 'Keputih'},\n",
              " (502, 'Sabrina'): {'nama_lengkap': 'Sabrina', 'alamat': 'Mulyosari'}}"
            ]
          },
          "metadata": {},
          "execution_count": 115
        }
      ]
    },
    {
      "cell_type": "code",
      "source": [
        "data_mhs[(501, 'Hazwan')]"
      ],
      "metadata": {
        "colab": {
          "base_uri": "https://localhost:8080/"
        },
        "id": "GxDSlFHiGh5D",
        "outputId": "12baf795-178b-4dec-c093-662f5baedf3a"
      },
      "execution_count": 118,
      "outputs": [
        {
          "output_type": "execute_result",
          "data": {
            "text/plain": [
              "{'nama_lengkap': 'Hazwan AKbar', 'alamat': 'Keputih'}"
            ]
          },
          "metadata": {},
          "execution_count": 118
        }
      ]
    }
  ]
}