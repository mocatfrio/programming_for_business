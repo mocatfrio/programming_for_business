{
 "cells": [
  {
   "cell_type": "markdown",
   "id": "9acc51ca",
   "metadata": {},
   "source": [
    "# Exercises 9"
   ]
  },
  {
   "cell_type": "markdown",
   "id": "b6781b07",
   "metadata": {
    "vscode": {
     "languageId": "plaintext"
    }
   },
   "source": [
    "## Soal 1\n",
    "Buat tuple ukuran berisi (1080, 1350). Unpack ke w, h lalu cetak: Lebar: 1080, Tinggi: 1350."
   ]
  },
  {
   "cell_type": "code",
   "execution_count": null,
   "id": "d219eb78",
   "metadata": {},
   "outputs": [],
   "source": [
    "# Jawab disini"
   ]
  },
  {
   "cell_type": "markdown",
   "id": "b5d64e29",
   "metadata": {},
   "source": [
    "## Soal 2\n",
    "Mulai dari list tools = [\"Photoshop\", \"Illustrator\"]. Tambahkan \"Figma\" di akhir, \"Lightroom\" di awal, lalu hapus \"Illustrator\"."
   ]
  },
  {
   "cell_type": "code",
   "execution_count": null,
   "id": "82d9d716",
   "metadata": {},
   "outputs": [],
   "source": [
    "# Jawab disini"
   ]
  },
  {
   "cell_type": "markdown",
   "id": "d8888d28",
   "metadata": {},
   "source": [
    "## Soal 3\n",
    "Dari likes = [120, 45, 300, 210, 85], urutkan menurun (descending) tanpa mengubah list asli. Ambil 3 nilai teratas."
   ]
  },
  {
   "cell_type": "code",
   "execution_count": null,
   "id": "a7cd791b",
   "metadata": {},
   "outputs": [],
   "source": [
    "# Jawab disini  "
   ]
  },
  {
   "cell_type": "markdown",
   "id": "3b88e21e",
   "metadata": {},
   "source": [
    "## Soal 4\n",
    "Diberi list tags = [\"#design\",\"#uiux\",\"#design\",\"#branding\",\"#uiux\"]. Ubah ke set unik, lalu kembalikan ke list terurut alfabet."
   ]
  },
  {
   "cell_type": "code",
   "execution_count": null,
   "id": "0208f848",
   "metadata": {},
   "outputs": [],
   "source": [
    "# Jawab disini"
   ]
  },
  {
   "cell_type": "markdown",
   "id": "f3a05e35",
   "metadata": {},
   "source": [
    "## Soal 5\n",
    "Buat dict brand dengan key: nama, tagline, warna_utama (list hex), aktif (bool). \n",
    "Ubah aktif menjadi False dan tambahkan tahun=2025."
   ]
  },
  {
   "cell_type": "code",
   "execution_count": null,
   "id": "2d6f3ede",
   "metadata": {},
   "outputs": [],
   "source": [
    "# Jawab disini"
   ]
  },
  {
   "cell_type": "markdown",
   "id": "217ac8c3",
   "metadata": {},
   "source": [
    "## Soal 6\n",
    "Gunakan tuple (platform, tipe) sebagai kunci dict statistik, misal:\n",
    "\n",
    "- (\"IG\",\"reels\"): 340\n",
    "- (\"IG\",\"feed\"): 120\n",
    "- (\"TikTok\",\"short\"): 500\n",
    "\n",
    "Tingkatkan nilai untuk (\"IG\",\"reels\") sebanyak 25."
   ]
  },
  {
   "cell_type": "code",
   "execution_count": null,
   "id": "d72da88a",
   "metadata": {},
   "outputs": [],
   "source": [
    "# Jawab disini"
   ]
  },
  {
   "cell_type": "markdown",
   "id": "71ab9a17",
   "metadata": {},
   "source": [
    "## Soal 7\n",
    "- Buat list konten berisi 3 dict, masing-masing punya: judul (str), tags (set), ukuran (tuple (w,h)), likes (int).\n",
    "- Tambahkan satu konten baru.\n",
    "- Hitung total likes semua konten.\n",
    "- Buat set gabungan semua tag dari seluruh konten."
   ]
  },
  {
   "cell_type": "code",
   "execution_count": null,
   "id": "d334ae41",
   "metadata": {},
   "outputs": [],
   "source": [
    "# Jawab disini"
   ]
  }
 ],
 "metadata": {
  "language_info": {
   "name": "python"
  }
 },
 "nbformat": 4,
 "nbformat_minor": 5
}
