{
 "cells": [
  {
   "cell_type": "markdown",
   "metadata": {
    "id": "ThoPPH6-g2cz"
   },
   "source": [
    "<center><h1><font size=\"+3\">Programming for Business: Week 4 - Loop Operation</font></h1></center>"
   ]
  },
  {
   "cell_type": "markdown",
   "metadata": {
    "id": "NPpNbht_g2c-"
   },
   "source": [
    "# Purpose\n",
    "\n",
    "---\n",
    "\n",
    "To reuse code and make our lives much, much, easier."
   ]
  },
  {
   "cell_type": "markdown",
   "metadata": {
    "id": "mbtUNijag2c-"
   },
   "source": [
    "__For example:__\n",
    "\n",
    "To add 1, 5 times is `1 + 1 + 1 + 1 + 1 = 5`.  \n",
    "In loops, however, we just have this logic:\n",
    "\n",
    "```python\n",
    "x = 1\n",
    "x = x + 1 # (do this 4 times)```"
   ]
  },
  {
   "cell_type": "markdown",
   "metadata": {
    "id": "wZ0XV4g0g2c_"
   },
   "source": [
    "# the `for` loop\n",
    "\n",
    "---\n",
    "\n",
    "```python\n",
    "for item in iterable:\n",
    "    # Python code\n",
    "```\n",
    "\n",
    "The `for` loop processes until the last element of iterable has been used."
   ]
  },
  {
   "cell_type": "code",
   "execution_count": null,
   "metadata": {
    "id": "B9-MWCeRg2da"
   },
   "outputs": [],
   "source": [
    "total = 0\n",
    "\n",
    "for number in range(5):\n",
    "    # number = 0, 1, 2, 3, 4\n",
    "    total = total + 1\n",
    "\n",
    "print(total)"
   ]
  },
  {
   "cell_type": "code",
   "execution_count": null,
   "metadata": {
    "id": "IbkLU8mhg2dd"
   },
   "outputs": [],
   "source": [
    "students = ['Bob', 'Sue', 'Joe', 'Betty']\n",
    "\n",
    "for student in students:\n",
    "    # student is a temporary variable pointing to the current item\n",
    "    print(student)"
   ]
  },
  {
   "cell_type": "code",
   "execution_count": null,
   "metadata": {},
   "outputs": [],
   "source": [
    "# For loop example\n",
    "\n",
    "dates = [1982,1980,1973]\n",
    "N = len(dates)\n",
    "\n",
    "for i in range(N):\n",
    "    print(dates[i])"
   ]
  },
  {
   "cell_type": "code",
   "execution_count": null,
   "metadata": {},
   "outputs": [],
   "source": [
    "# Example of for loop\n",
    "\n",
    "for i in range(0, 8):\n",
    "    print(i)"
   ]
  },
  {
   "cell_type": "code",
   "execution_count": null,
   "metadata": {},
   "outputs": [],
   "source": [
    "# Exmaple of for loop, loop through list\n",
    "\n",
    "for year in dates:\n",
    "    print(year)"
   ]
  },
  {
   "cell_type": "code",
   "execution_count": null,
   "metadata": {},
   "outputs": [],
   "source": []
  },
  {
   "cell_type": "markdown",
   "metadata": {
    "id": "r6WHbP6-g2df"
   },
   "source": [
    "# Specifying a change of direction\n",
    "\n",
    "---\n",
    "\n",
    "Use the keywords __`continue`__, __`break`__, or __`pass`__ to change the behavior of conditionals and loops."
   ]
  },
  {
   "cell_type": "code",
   "execution_count": null,
   "metadata": {
    "id": "42Q9eEDxg2df"
   },
   "outputs": [],
   "source": [
    "total = 0\n",
    "\n",
    "for number in range(10):\n",
    "    if total == 5:\n",
    "        break\n",
    "    total = total + 1\n",
    "\n",
    "print(total)"
   ]
  },
  {
   "cell_type": "markdown",
   "metadata": {
    "id": "tz22s8ARg2dg"
   },
   "source": [
    "# Breakout 1\n",
    "\n",
    "Print all the numbers from the output of `range(50)` backwards starting with 49 down to 7."
   ]
  },
  {
   "cell_type": "markdown",
   "metadata": {
    "id": "Cpf4kpEog2dg"
   },
   "source": [
    "# Breakout 2\n",
    "### (Flipping of a coin)\n",
    "If you excute the code segment:\n",
    "\n",
    "       import random\n",
    "       print(random.choices('TH'))\n",
    "\n",
    "you will get either **['T']** or **['H']**.\n",
    "\n",
    "Write a program that simulates the flipping of a coin 1000 times and print the total numbers of Heads ('H') and  Tails ('T').\n"
   ]
  },
  {
   "cell_type": "markdown",
   "metadata": {
    "id": "1OG9zP0Xg2dh"
   },
   "source": [
    "# Breakout 3\n",
    "\n",
    "### (Entering the password)\n",
    "We want to write a code that simulates providing the password:\n",
    "\n",
    "* You have at most three attempts.\n",
    "* If you provide the right password, the code will print `Welcome in!`.\n",
    "* If you provide the wrong password and it is not the third attempt, the code will print `Wong password. Please try again.` and ask you to enter again the password.\n",
    "* If your third attempt is not successful, the code will write `You are not allowed to access this computer!` and exit.\n",
    "\n",
    "Assume that the right password is **PyTHoN** and use the function `input()` for asking the password from the command line.\n"
   ]
  },
  {
   "cell_type": "code",
   "execution_count": null,
   "metadata": {},
   "outputs": [],
   "source": [
    "# Use for loop to change the elements in list\n",
    "\n",
    "squares = ['red', 'yellow', 'green', 'purple', 'blue']\n",
    "\n",
    "for i in range(0, 5):\n",
    "    print(\"Before square \", i, 'is',  squares[i])\n",
    "    squares[i] = 'white'\n",
    "    print(\"After square \", i, 'is',  squares[i])"
   ]
  },
  {
   "cell_type": "markdown",
   "metadata": {
    "id": "ftDm27uDg2dh"
   },
   "source": [
    "# the `while` loop\n",
    "\n",
    "---\n",
    "\n",
    "```python\n",
    "while condition:\n",
    "    # Python code\n",
    "```\n",
    "\n",
    "The `while` loop continues to process indefinitely until `condition` evaluates to False."
   ]
  },
  {
   "cell_type": "code",
   "execution_count": null,
   "metadata": {
    "id": "6pCSKrspg2dh"
   },
   "outputs": [],
   "source": [
    "i = 50\n",
    "\n",
    "while i >= 7:\n",
    "    print(i)"
   ]
  },
  {
   "cell_type": "code",
   "execution_count": null,
   "metadata": {},
   "outputs": [],
   "source": [
    "# While Loop Example\n",
    "\n",
    "dates = [1982, 1980, 1973, 2000]\n",
    "\n",
    "i = 0\n",
    "year = 0\n",
    "\n",
    "while(year != 1973):\n",
    "    year = dates[i]\n",
    "    i = i + 1\n",
    "    print(year)\n",
    "\n",
    "print(\"It took \", i ,\"repetitions to get out of loop.\")"
   ]
  },
  {
   "cell_type": "markdown",
   "metadata": {
    "id": "DLoVglpeg2dh"
   },
   "source": [
    "# Warning!\n",
    "Think about your code before you run it. Without close inspection, you can create an infinite loop in your program.\n",
    "\n",
    "---"
   ]
  },
  {
   "cell_type": "code",
   "execution_count": null,
   "metadata": {
    "id": "izMTgUkEg2di"
   },
   "outputs": [],
   "source": [
    "# endless loop example (You have been warned!)\n",
    "# while True:\n",
    "#     Python code\n",
    "#\n",
    "#     can use these statements to change control here too\n",
    "#     continue\n",
    "#     or pass\n",
    "#     or break"
   ]
  }
 ],
 "metadata": {
  "celltoolbar": "Slideshow",
  "colab": {
   "provenance": []
  },
  "kernelspec": {
   "display_name": "Python 3 (ipykernel)",
   "language": "python",
   "name": "python3"
  },
  "language_info": {
   "codemirror_mode": {
    "name": "ipython",
    "version": 3
   },
   "file_extension": ".py",
   "mimetype": "text/x-python",
   "name": "python",
   "nbconvert_exporter": "python",
   "pygments_lexer": "ipython3",
   "version": "3.12.4"
  }
 },
 "nbformat": 4,
 "nbformat_minor": 4
}
