{
 "cells": [
  {
   "cell_type": "markdown",
   "id": "33631a22",
   "metadata": {
    "papermill": {
     "duration": 0.010916,
     "end_time": "2025-04-18T21:35:11.456795",
     "exception": false,
     "start_time": "2025-04-18T21:35:11.445879",
     "status": "completed"
    },
    "tags": []
   },
   "source": [
    "\n",
    "\n",
    "# Conditions in Python\n",
    "\n",
    "\n",
    "    \n",
    "\n",
    "## Objectives\n",
    "\n",
    "After completing this lab you will be able to:\n",
    "\n",
    "* work with condition statements in Python, including operators, and branching.\n"
   ]
  },
  {
   "cell_type": "markdown",
   "id": "2b3fd556",
   "metadata": {
    "papermill": {
     "duration": 0.009398,
     "end_time": "2025-04-18T21:35:11.476063",
     "exception": false,
     "start_time": "2025-04-18T21:35:11.466665",
     "status": "completed"
    },
    "tags": []
   },
   "source": [
    "<h2>Table of Contents</h2>\n",
    "<div class=\"alert alert-block alert-info\" style=\"margin-top: 20px\">\n",
    "    <ul>\n",
    "        <li>\n",
    "            <a href=\"#cond\">Condition Statements</a>\n",
    "            <ul>\n",
    "                <li><a href=\"comp\">Comparison Operators</a></li>\n",
    "                <li><a href=\"branch\">Branching</a></li>\n",
    "                <li><a href=\"logic\">Logical operators</a></li>\n",
    "            </ul>\n",
    "        </li>\n",
    "        <li>\n",
    "            <a href=\"#quiz\">Quiz on Condition Statement</a>\n",
    "        </li>\n",
    "    </ul>\n",
    "\n",
    "</div>\n",
    "\n",
    "<hr>\n"
   ]
  },
  {
   "cell_type": "markdown",
   "id": "edfcae58",
   "metadata": {
    "papermill": {
     "duration": 0.009237,
     "end_time": "2025-04-18T21:35:11.494871",
     "exception": false,
     "start_time": "2025-04-18T21:35:11.485634",
     "status": "completed"
    },
    "tags": []
   },
   "source": [
    "<h2 id=\"cond\">Condition Statements</h2>\n"
   ]
  },
  {
   "cell_type": "markdown",
   "id": "647471c5",
   "metadata": {
    "papermill": {
     "duration": 0.009281,
     "end_time": "2025-04-18T21:35:11.513663",
     "exception": false,
     "start_time": "2025-04-18T21:35:11.504382",
     "status": "completed"
    },
    "tags": []
   },
   "source": [
    "<h3 id=\"comp\">Comparison Operators</h3>\n"
   ]
  },
  {
   "cell_type": "markdown",
   "id": "e0c9c800",
   "metadata": {
    "papermill": {
     "duration": 0.009044,
     "end_time": "2025-04-18T21:35:11.532671",
     "exception": false,
     "start_time": "2025-04-18T21:35:11.523627",
     "status": "completed"
    },
    "tags": []
   },
   "source": [
    "Comparison operations compare some value or operand and based on a condition, produce a Boolean. When comparing two values you can use these operators:\n",
    "\n",
    "<ul>\n",
    "    <li>equal: <b>==</b></li>\n",
    "    <li>not equal: <b>!=</b></li>\n",
    "    <li>greater than: <b>></b></li>\n",
    "    <li>less than: <b>&lt;</b></li>\n",
    "    <li>greater than or equal to: <b>>=</b></li>\n",
    "    <li>less than or equal to: <b>&lt;=</b></li>\n",
    "</ul>\n"
   ]
  },
  {
   "cell_type": "markdown",
   "id": "b8446c7a",
   "metadata": {
    "papermill": {
     "duration": 0.009127,
     "end_time": "2025-04-18T21:35:11.551553",
     "exception": false,
     "start_time": "2025-04-18T21:35:11.542426",
     "status": "completed"
    },
    "tags": []
   },
   "source": [
    "Let's assign <code>a</code> a value of 5. Use the equality operator denoted with two equal <b>==</b> signs to determine if two values are equal. The case below compares the variable <code>a</code> with 6.\n"
   ]
  },
  {
   "cell_type": "code",
   "execution_count": 1,
   "id": "d0d9c5c2",
   "metadata": {
    "execution": {
     "iopub.execute_input": "2025-04-18T21:35:11.571760Z",
     "iopub.status.busy": "2025-04-18T21:35:11.571446Z",
     "iopub.status.idle": "2025-04-18T21:35:11.581497Z",
     "shell.execute_reply": "2025-04-18T21:35:11.580691Z"
    },
    "papermill": {
     "duration": 0.021946,
     "end_time": "2025-04-18T21:35:11.583008",
     "exception": false,
     "start_time": "2025-04-18T21:35:11.561062",
     "status": "completed"
    },
    "tags": []
   },
   "outputs": [
    {
     "data": {
      "text/plain": [
       "False"
      ]
     },
     "execution_count": 1,
     "metadata": {},
     "output_type": "execute_result"
    }
   ],
   "source": [
    "# Condition Equal\n",
    "\n",
    "a = 5\n",
    "a == 6"
   ]
  },
  {
   "cell_type": "markdown",
   "id": "b922016a",
   "metadata": {
    "papermill": {
     "duration": 0.009413,
     "end_time": "2025-04-18T21:35:11.602570",
     "exception": false,
     "start_time": "2025-04-18T21:35:11.593157",
     "status": "completed"
    },
    "tags": []
   },
   "source": [
    "The result is <b>False</b>, as 5 does not equal to 6.\n"
   ]
  },
  {
   "cell_type": "markdown",
   "id": "11e4786b",
   "metadata": {
    "papermill": {
     "duration": 0.009454,
     "end_time": "2025-04-18T21:35:11.621675",
     "exception": false,
     "start_time": "2025-04-18T21:35:11.612221",
     "status": "completed"
    },
    "tags": []
   },
   "source": [
    "Consider the following equality comparison operator: <code>i > 5</code>. If the value of the left operand, in this case the variable <b>i</b>, is greater than the value of the right operand, in this case 5, then the statement is <b>True</b>. Otherwise, the statement is <b>False</b>.  If <b>i</b> is equal to 6, because 6 is larger than 5, the output is <b>True</b>.\n"
   ]
  },
  {
   "cell_type": "code",
   "execution_count": 2,
   "id": "37de5f95",
   "metadata": {
    "execution": {
     "iopub.execute_input": "2025-04-18T21:35:11.641804Z",
     "iopub.status.busy": "2025-04-18T21:35:11.641510Z",
     "iopub.status.idle": "2025-04-18T21:35:11.647488Z",
     "shell.execute_reply": "2025-04-18T21:35:11.646554Z"
    },
    "papermill": {
     "duration": 0.017837,
     "end_time": "2025-04-18T21:35:11.649001",
     "exception": false,
     "start_time": "2025-04-18T21:35:11.631164",
     "status": "completed"
    },
    "tags": []
   },
   "outputs": [
    {
     "data": {
      "text/plain": [
       "True"
      ]
     },
     "execution_count": 2,
     "metadata": {},
     "output_type": "execute_result"
    }
   ],
   "source": [
    "# Greater than Sign\n",
    "\n",
    "i = 6\n",
    "i > 5"
   ]
  },
  {
   "cell_type": "markdown",
   "id": "b21e8b48",
   "metadata": {
    "papermill": {
     "duration": 0.009389,
     "end_time": "2025-04-18T21:35:11.668399",
     "exception": false,
     "start_time": "2025-04-18T21:35:11.659010",
     "status": "completed"
    },
    "tags": []
   },
   "source": [
    "Set <code>i = 2</code>. The statement is False as 2 is not greater than 5:\n"
   ]
  },
  {
   "cell_type": "code",
   "execution_count": 3,
   "id": "3941682b",
   "metadata": {
    "execution": {
     "iopub.execute_input": "2025-04-18T21:35:11.689815Z",
     "iopub.status.busy": "2025-04-18T21:35:11.688756Z",
     "iopub.status.idle": "2025-04-18T21:35:11.695146Z",
     "shell.execute_reply": "2025-04-18T21:35:11.694252Z"
    },
    "papermill": {
     "duration": 0.018749,
     "end_time": "2025-04-18T21:35:11.696736",
     "exception": false,
     "start_time": "2025-04-18T21:35:11.677987",
     "status": "completed"
    },
    "tags": []
   },
   "outputs": [
    {
     "data": {
      "text/plain": [
       "False"
      ]
     },
     "execution_count": 3,
     "metadata": {},
     "output_type": "execute_result"
    }
   ],
   "source": [
    "# Greater than Sign\n",
    "\n",
    "i = 2\n",
    "i > 5"
   ]
  },
  {
   "cell_type": "markdown",
   "id": "6f933924",
   "metadata": {
    "papermill": {
     "duration": 0.009796,
     "end_time": "2025-04-18T21:35:11.716534",
     "exception": false,
     "start_time": "2025-04-18T21:35:11.706738",
     "status": "completed"
    },
    "tags": []
   },
   "source": [
    " Let's display some values for <code>i</code> in the figure. Set the values greater than 5 in green and the rest in red. The green region represents where the condition is **True**, the red where the statement is **False**. If the value of <code>i</code> is 2, we get **False** as the 2 falls in the red region. Similarly, if the value for <code>i</code> is 6 we get a **True** as the condition falls in the green region. \n"
   ]
  },
  {
   "cell_type": "markdown",
   "id": "bc3d1a4e",
   "metadata": {
    "papermill": {
     "duration": 0.009685,
     "end_time": "2025-04-18T21:35:11.736166",
     "exception": false,
     "start_time": "2025-04-18T21:35:11.726481",
     "status": "completed"
    },
    "tags": []
   },
   "source": [
    "<img src=\"https://cf-courses-data.s3.us.cloud-object-storage.appdomain.cloud/IBMDeveloperSkillsNetwork-PY0101EN-SkillsNetwork/labs/Module%203/images/CondsGreater.gif\" width=\"650\">\n"
   ]
  },
  {
   "cell_type": "markdown",
   "id": "5920c2e2",
   "metadata": {
    "papermill": {
     "duration": 0.00962,
     "end_time": "2025-04-18T21:35:11.755739",
     "exception": false,
     "start_time": "2025-04-18T21:35:11.746119",
     "status": "completed"
    },
    "tags": []
   },
   "source": [
    "The inequality test uses an exclamation mark preceding the equal sign, if two operands are not equal then the condition becomes **True**.  For example, the following condition will produce **True** as long as the value of <code>i</code> is not equal to 6:\n"
   ]
  },
  {
   "cell_type": "code",
   "execution_count": 4,
   "id": "c1d9c7c8",
   "metadata": {
    "execution": {
     "iopub.execute_input": "2025-04-18T21:35:11.776818Z",
     "iopub.status.busy": "2025-04-18T21:35:11.776504Z",
     "iopub.status.idle": "2025-04-18T21:35:11.782489Z",
     "shell.execute_reply": "2025-04-18T21:35:11.781662Z"
    },
    "papermill": {
     "duration": 0.018376,
     "end_time": "2025-04-18T21:35:11.783995",
     "exception": false,
     "start_time": "2025-04-18T21:35:11.765619",
     "status": "completed"
    },
    "tags": []
   },
   "outputs": [
    {
     "data": {
      "text/plain": [
       "True"
      ]
     },
     "execution_count": 4,
     "metadata": {},
     "output_type": "execute_result"
    }
   ],
   "source": [
    "# Inequality Sign\n",
    "\n",
    "i = 2\n",
    "i != 6"
   ]
  },
  {
   "cell_type": "markdown",
   "id": "ba96b1b6",
   "metadata": {
    "papermill": {
     "duration": 0.076695,
     "end_time": "2025-04-18T21:35:11.870990",
     "exception": false,
     "start_time": "2025-04-18T21:35:11.794295",
     "status": "completed"
    },
    "tags": []
   },
   "source": [
    "When <code>i</code> equals 6 the inequality expression produces <b>False</b>. \n"
   ]
  },
  {
   "cell_type": "code",
   "execution_count": 5,
   "id": "e9e1fabe",
   "metadata": {
    "execution": {
     "iopub.execute_input": "2025-04-18T21:35:11.893556Z",
     "iopub.status.busy": "2025-04-18T21:35:11.892722Z",
     "iopub.status.idle": "2025-04-18T21:35:11.898401Z",
     "shell.execute_reply": "2025-04-18T21:35:11.897575Z"
    },
    "papermill": {
     "duration": 0.018764,
     "end_time": "2025-04-18T21:35:11.899986",
     "exception": false,
     "start_time": "2025-04-18T21:35:11.881222",
     "status": "completed"
    },
    "tags": []
   },
   "outputs": [
    {
     "data": {
      "text/plain": [
       "False"
      ]
     },
     "execution_count": 5,
     "metadata": {},
     "output_type": "execute_result"
    }
   ],
   "source": [
    "# Inequality Sign\n",
    "\n",
    "i = 6\n",
    "i != 6"
   ]
  },
  {
   "cell_type": "markdown",
   "id": "b16699e0",
   "metadata": {
    "papermill": {
     "duration": 0.009806,
     "end_time": "2025-04-18T21:35:11.920148",
     "exception": false,
     "start_time": "2025-04-18T21:35:11.910342",
     "status": "completed"
    },
    "tags": []
   },
   "source": [
    "See the number line below. When the condition is **True**, the corresponding numbers are marked in green and for where the condition is **False** the corresponding number is marked in red.  If we set <code>i</code> equal to 2 the operator is true, since 2 is in the green region. If we set <code>i</code> equal to 6, we get a **False**, since the condition falls in the red region.\n"
   ]
  },
  {
   "cell_type": "markdown",
   "id": "1b02ea52",
   "metadata": {
    "papermill": {
     "duration": 0.009597,
     "end_time": "2025-04-18T21:35:11.939789",
     "exception": false,
     "start_time": "2025-04-18T21:35:11.930192",
     "status": "completed"
    },
    "tags": []
   },
   "source": [
    "<img src=\"https://cf-courses-data.s3.us.cloud-object-storage.appdomain.cloud/IBMDeveloperSkillsNetwork-PY0101EN-SkillsNetwork/labs/Module%203/images/CondsIneq.gif\" width=\"650\">\n"
   ]
  },
  {
   "cell_type": "markdown",
   "id": "3599f993",
   "metadata": {
    "papermill": {
     "duration": 0.009747,
     "end_time": "2025-04-18T21:35:11.959490",
     "exception": false,
     "start_time": "2025-04-18T21:35:11.949743",
     "status": "completed"
    },
    "tags": []
   },
   "source": [
    " We can apply the same methods on strings. For example, we can use an equality operator on two different strings. As the strings are not equal, we get a **False**.\n"
   ]
  },
  {
   "cell_type": "code",
   "execution_count": 6,
   "id": "3dc6fd3f",
   "metadata": {
    "execution": {
     "iopub.execute_input": "2025-04-18T21:35:11.980682Z",
     "iopub.status.busy": "2025-04-18T21:35:11.980404Z",
     "iopub.status.idle": "2025-04-18T21:35:11.985770Z",
     "shell.execute_reply": "2025-04-18T21:35:11.984924Z"
    },
    "papermill": {
     "duration": 0.018081,
     "end_time": "2025-04-18T21:35:11.987541",
     "exception": false,
     "start_time": "2025-04-18T21:35:11.969460",
     "status": "completed"
    },
    "tags": []
   },
   "outputs": [
    {
     "data": {
      "text/plain": [
       "False"
      ]
     },
     "execution_count": 6,
     "metadata": {},
     "output_type": "execute_result"
    }
   ],
   "source": [
    "# Use Equality sign to compare the strings\n",
    "\n",
    "\"ACDC\" == \"Michael Jackson\""
   ]
  },
  {
   "cell_type": "markdown",
   "id": "bb0c178d",
   "metadata": {
    "papermill": {
     "duration": 0.011657,
     "end_time": "2025-04-18T21:35:12.009692",
     "exception": false,
     "start_time": "2025-04-18T21:35:11.998035",
     "status": "completed"
    },
    "tags": []
   },
   "source": [
    " If we use the inequality operator, the output is going to be **True** as the strings are not equal.\n"
   ]
  },
  {
   "cell_type": "code",
   "execution_count": 7,
   "id": "833ec9bf",
   "metadata": {
    "execution": {
     "iopub.execute_input": "2025-04-18T21:35:12.032644Z",
     "iopub.status.busy": "2025-04-18T21:35:12.032338Z",
     "iopub.status.idle": "2025-04-18T21:35:12.038420Z",
     "shell.execute_reply": "2025-04-18T21:35:12.037362Z"
    },
    "papermill": {
     "duration": 0.019617,
     "end_time": "2025-04-18T21:35:12.039745",
     "exception": false,
     "start_time": "2025-04-18T21:35:12.020128",
     "status": "completed"
    },
    "tags": []
   },
   "outputs": [
    {
     "data": {
      "text/plain": [
       "True"
      ]
     },
     "execution_count": 7,
     "metadata": {},
     "output_type": "execute_result"
    }
   ],
   "source": [
    "# Use Inequality sign to compare the strings\n",
    "\n",
    "\"ACDC\" != \"Michael Jackson\""
   ]
  },
  {
   "cell_type": "markdown",
   "id": "a6ce0edb",
   "metadata": {
    "papermill": {
     "duration": 0.010097,
     "end_time": "2025-04-18T21:35:12.060659",
     "exception": false,
     "start_time": "2025-04-18T21:35:12.050562",
     "status": "completed"
    },
    "tags": []
   },
   "source": [
    "The inequality operation is also used to compare the letters/words/symbols according to the ASCII value of letters. The decimal value shown in the following table represents the order of the character:\n"
   ]
  },
  {
   "cell_type": "markdown",
   "id": "c7be111f",
   "metadata": {
    "papermill": {
     "duration": 0.010822,
     "end_time": "2025-04-18T21:35:12.081780",
     "exception": false,
     "start_time": "2025-04-18T21:35:12.070958",
     "status": "completed"
    },
    "tags": []
   },
   "source": [
    "\n",
    "<style type=\"text/css\">\n",
    ".tg  {border-collapse:collapse;border-spacing:0;}\n",
    ".tg td{border-color:black;border-style:solid;border-width:1px;font-family:Arial, sans-serif;font-size:14px;\n",
    "  overflow:hidden;padding:10px 5px;word-break:normal;}\n",
    ".tg th{border-color:black;border-style:solid;border-width:1px;font-family:Arial, sans-serif;font-size:14px;\n",
    "  font-weight:normal;overflow:hidden;padding:10px 5px;word-break:normal;}\n",
    ".tg .tg-baqh{text-align:center;vertical-align:top}\n",
    ".tg .tg-7geq{background-color:#ffffc7;text-align:center;vertical-align:top}\n",
    ".tg .tg-1cln{background-color:#ffcc67;font-size:100%;font-weight:bold;text-align:center;vertical-align:top}\n",
    ".tg .tg-xozw{background-color:#ffcc67;font-weight:bold;text-align:center;vertical-align:top}\n",
    "</style>\n",
    "<table class=\"tg\">\n",
    "<thead>\n",
    "  <tr>\n",
    "    <th class=\"tg-1cln\">Char.</th>\n",
    "    <th class=\"tg-xozw\">ASCII</th>\n",
    "    <th class=\"tg-xozw\">Char.</th>\n",
    "    <th class=\"tg-xozw\">ASCII</th>\n",
    "    <th class=\"tg-xozw\">Char.</th>\n",
    "    <th class=\"tg-xozw\">ASCII</th>\n",
    "    <th class=\"tg-xozw\">Char.</th>\n",
    "    <th class=\"tg-xozw\">ASCII</th>\n",
    "  </tr>\n",
    "</thead>\n",
    "<tbody>\n",
    "  <tr>\n",
    "    <td class=\"tg-7geq\">A</td>\n",
    "    <td class=\"tg-baqh\">65</td>\n",
    "    <td class=\"tg-7geq\">N</td>\n",
    "    <td class=\"tg-baqh\">78</td>\n",
    "    <td class=\"tg-7geq\">a</td>\n",
    "    <td class=\"tg-baqh\">97</td>\n",
    "    <td class=\"tg-7geq\">n</td>\n",
    "    <td class=\"tg-baqh\">110</td>\n",
    "  </tr>\n",
    "  <tr>\n",
    "    <td class=\"tg-7geq\">B</td>\n",
    "    <td class=\"tg-baqh\">66</td>\n",
    "    <td class=\"tg-7geq\">O</td>\n",
    "    <td class=\"tg-baqh\">79</td>\n",
    "    <td class=\"tg-7geq\">b</td>\n",
    "    <td class=\"tg-baqh\">98</td>\n",
    "    <td class=\"tg-7geq\">o</td>\n",
    "    <td class=\"tg-baqh\">111</td>\n",
    "  </tr>\n",
    "  <tr>\n",
    "    <td class=\"tg-7geq\">C</td>\n",
    "    <td class=\"tg-baqh\">67</td>\n",
    "    <td class=\"tg-7geq\">P</td>\n",
    "    <td class=\"tg-baqh\">80</td>\n",
    "    <td class=\"tg-7geq\">c</td>\n",
    "    <td class=\"tg-baqh\">99</td>\n",
    "    <td class=\"tg-7geq\">p</td>\n",
    "    <td class=\"tg-baqh\">112</td>\n",
    "  </tr>\n",
    "  <tr>\n",
    "    <td class=\"tg-7geq\">D</td>\n",
    "    <td class=\"tg-baqh\">68</td>\n",
    "    <td class=\"tg-7geq\">Q</td>\n",
    "    <td class=\"tg-baqh\">81</td>\n",
    "    <td class=\"tg-7geq\">d</td>\n",
    "    <td class=\"tg-baqh\">100</td>\n",
    "    <td class=\"tg-7geq\">q</td>\n",
    "    <td class=\"tg-baqh\">113</td>\n",
    "  </tr>\n",
    "  <tr>\n",
    "    <td class=\"tg-7geq\">E</td>\n",
    "    <td class=\"tg-baqh\">69</td>\n",
    "    <td class=\"tg-7geq\">R</td>\n",
    "    <td class=\"tg-baqh\">82</td>\n",
    "    <td class=\"tg-7geq\">e</td>\n",
    "    <td class=\"tg-baqh\">101</td>\n",
    "    <td class=\"tg-7geq\">r</td>\n",
    "    <td class=\"tg-baqh\">114</td>\n",
    "  </tr>\n",
    "  <tr>\n",
    "    <td class=\"tg-7geq\">F</td>\n",
    "    <td class=\"tg-baqh\">70</td>\n",
    "    <td class=\"tg-7geq\">S</td>\n",
    "    <td class=\"tg-baqh\">83</td>\n",
    "    <td class=\"tg-7geq\">f</td>\n",
    "    <td class=\"tg-baqh\">102</td>\n",
    "    <td class=\"tg-7geq\">s</td>\n",
    "    <td class=\"tg-baqh\">115</td>\n",
    "  </tr>\n",
    "  <tr>\n",
    "    <td class=\"tg-7geq\">G</td>\n",
    "    <td class=\"tg-baqh\">71</td>\n",
    "    <td class=\"tg-7geq\">T</td>\n",
    "    <td class=\"tg-baqh\">84</td>\n",
    "    <td class=\"tg-7geq\">g</td>\n",
    "    <td class=\"tg-baqh\">103</td>\n",
    "    <td class=\"tg-7geq\">t</td>\n",
    "    <td class=\"tg-baqh\">116</td>\n",
    "  </tr>\n",
    "  <tr>\n",
    "    <td class=\"tg-7geq\">H</td>\n",
    "    <td class=\"tg-baqh\">72</td>\n",
    "    <td class=\"tg-7geq\">U</td>\n",
    "    <td class=\"tg-baqh\">85</td>\n",
    "    <td class=\"tg-7geq\">h</td>\n",
    "    <td class=\"tg-baqh\">104</td>\n",
    "    <td class=\"tg-7geq\">u</td>\n",
    "    <td class=\"tg-baqh\">117</td>\n",
    "  </tr>\n",
    "  <tr>\n",
    "    <td class=\"tg-7geq\">I</td>\n",
    "    <td class=\"tg-baqh\">73</td>\n",
    "    <td class=\"tg-7geq\">V</td>\n",
    "    <td class=\"tg-baqh\">86</td>\n",
    "    <td class=\"tg-7geq\">i</td>\n",
    "    <td class=\"tg-baqh\">105</td>\n",
    "    <td class=\"tg-7geq\">v</td>\n",
    "    <td class=\"tg-baqh\">118</td>\n",
    "  </tr>\n",
    "  <tr>\n",
    "    <td class=\"tg-7geq\">J</td>\n",
    "    <td class=\"tg-baqh\">74</td>\n",
    "    <td class=\"tg-7geq\">W</td>\n",
    "    <td class=\"tg-baqh\">87</td>\n",
    "    <td class=\"tg-7geq\">j</td>\n",
    "    <td class=\"tg-baqh\">106</td>\n",
    "    <td class=\"tg-7geq\">w</td>\n",
    "    <td class=\"tg-baqh\">119</td>\n",
    "  </tr>\n",
    "  <tr>\n",
    "    <td class=\"tg-7geq\">K</td>\n",
    "    <td class=\"tg-baqh\">75</td>\n",
    "    <td class=\"tg-7geq\">X</td>\n",
    "    <td class=\"tg-baqh\">88</td>\n",
    "    <td class=\"tg-7geq\">k</td>\n",
    "    <td class=\"tg-baqh\">107</td>\n",
    "    <td class=\"tg-7geq\">x</td>\n",
    "    <td class=\"tg-baqh\">120</td>\n",
    "  </tr>\n",
    "  <tr>\n",
    "    <td class=\"tg-7geq\">L</td>\n",
    "    <td class=\"tg-baqh\">76</td>\n",
    "    <td class=\"tg-7geq\">Y</td>\n",
    "    <td class=\"tg-baqh\">89</td>\n",
    "    <td class=\"tg-7geq\">l</td>\n",
    "    <td class=\"tg-baqh\">108</td>\n",
    "    <td class=\"tg-7geq\">y</td>\n",
    "    <td class=\"tg-baqh\">121</td>\n",
    "  </tr>\n",
    "  <tr>\n",
    "    <td class=\"tg-7geq\">M</td>\n",
    "    <td class=\"tg-baqh\">77</td>\n",
    "    <td class=\"tg-7geq\">Z</td>\n",
    "    <td class=\"tg-baqh\">90</td>\n",
    "    <td class=\"tg-7geq\">m</td>\n",
    "    <td class=\"tg-baqh\">109</td>\n",
    "    <td class=\"tg-7geq\">z</td>\n",
    "    <td class=\"tg-baqh\">122</td>\n",
    "  </tr>\n",
    "</tbody>\n",
    "</table>\n"
   ]
  },
  {
   "cell_type": "markdown",
   "id": "b8636728",
   "metadata": {
    "papermill": {
     "duration": 0.010017,
     "end_time": "2025-04-18T21:35:12.102382",
     "exception": false,
     "start_time": "2025-04-18T21:35:12.092365",
     "status": "completed"
    },
    "tags": []
   },
   "source": [
    "For example, the ASCII code for <b>!</b> is 33, while the ASCII code for <b>+</b> is 43. Therefore <b>+</b> is larger than <b>!</b> as 43 is greater than 33.\n"
   ]
  },
  {
   "cell_type": "markdown",
   "id": "554dc34e",
   "metadata": {
    "papermill": {
     "duration": 0.010104,
     "end_time": "2025-04-18T21:35:12.123497",
     "exception": false,
     "start_time": "2025-04-18T21:35:12.113393",
     "status": "completed"
    },
    "tags": []
   },
   "source": [
    "Similarly, from the table above we see that the value for <b>A</b> is 65, and the value for <b>B</b> is 66, therefore:\n"
   ]
  },
  {
   "cell_type": "code",
   "execution_count": 8,
   "id": "64e2437e",
   "metadata": {
    "execution": {
     "iopub.execute_input": "2025-04-18T21:35:12.145483Z",
     "iopub.status.busy": "2025-04-18T21:35:12.145205Z",
     "iopub.status.idle": "2025-04-18T21:35:12.150887Z",
     "shell.execute_reply": "2025-04-18T21:35:12.150109Z"
    },
    "papermill": {
     "duration": 0.018733,
     "end_time": "2025-04-18T21:35:12.152451",
     "exception": false,
     "start_time": "2025-04-18T21:35:12.133718",
     "status": "completed"
    },
    "tags": []
   },
   "outputs": [
    {
     "data": {
      "text/plain": [
       "True"
      ]
     },
     "execution_count": 8,
     "metadata": {},
     "output_type": "execute_result"
    }
   ],
   "source": [
    "# Compare characters\n",
    "\n",
    "'B' > 'A'"
   ]
  },
  {
   "cell_type": "markdown",
   "id": "e41efc48",
   "metadata": {
    "papermill": {
     "duration": 0.010082,
     "end_time": "2025-04-18T21:35:12.173166",
     "exception": false,
     "start_time": "2025-04-18T21:35:12.163084",
     "status": "completed"
    },
    "tags": []
   },
   "source": [
    " When there are multiple letters, the first letter takes precedence in ordering:\n"
   ]
  },
  {
   "cell_type": "code",
   "execution_count": 9,
   "id": "61776fe1",
   "metadata": {
    "execution": {
     "iopub.execute_input": "2025-04-18T21:35:12.195168Z",
     "iopub.status.busy": "2025-04-18T21:35:12.194871Z",
     "iopub.status.idle": "2025-04-18T21:35:12.200704Z",
     "shell.execute_reply": "2025-04-18T21:35:12.199610Z"
    },
    "papermill": {
     "duration": 0.018599,
     "end_time": "2025-04-18T21:35:12.202262",
     "exception": false,
     "start_time": "2025-04-18T21:35:12.183663",
     "status": "completed"
    },
    "tags": []
   },
   "outputs": [
    {
     "data": {
      "text/plain": [
       "True"
      ]
     },
     "execution_count": 9,
     "metadata": {},
     "output_type": "execute_result"
    }
   ],
   "source": [
    "# Compare characters\n",
    "\n",
    "'BA' > 'AB'"
   ]
  },
  {
   "cell_type": "markdown",
   "id": "75cfbf3e",
   "metadata": {
    "papermill": {
     "duration": 0.010491,
     "end_time": "2025-04-18T21:35:12.223539",
     "exception": false,
     "start_time": "2025-04-18T21:35:12.213048",
     "status": "completed"
    },
    "tags": []
   },
   "source": [
    "<b>Note</b>: Upper Case Letters have different ASCII code than Lower Case Letters, which means the comparison between the letters in Python is case-sensitive.\n"
   ]
  },
  {
   "cell_type": "markdown",
   "id": "aafbff50",
   "metadata": {
    "papermill": {
     "duration": 0.010428,
     "end_time": "2025-04-18T21:35:12.244524",
     "exception": false,
     "start_time": "2025-04-18T21:35:12.234096",
     "status": "completed"
    },
    "tags": []
   },
   "source": [
    "<h3 id=\"branch\">Branching</h3>\n"
   ]
  },
  {
   "cell_type": "markdown",
   "id": "e1950135",
   "metadata": {
    "papermill": {
     "duration": 0.010384,
     "end_time": "2025-04-18T21:35:12.265415",
     "exception": false,
     "start_time": "2025-04-18T21:35:12.255031",
     "status": "completed"
    },
    "tags": []
   },
   "source": [
    " Branching allows us to run different statements for different inputs. It is helpful to think of an **if statement** as a locked room, if the statement is **True** we can enter the room and your program will run some predefined tasks, but if the statement is **False** the program will ignore the task.\n"
   ]
  },
  {
   "cell_type": "markdown",
   "id": "dbbc2da5",
   "metadata": {
    "papermill": {
     "duration": 0.010334,
     "end_time": "2025-04-18T21:35:12.286299",
     "exception": false,
     "start_time": "2025-04-18T21:35:12.275965",
     "status": "completed"
    },
    "tags": []
   },
   "source": [
    "For example, consider the blue rectangle representing an ACDC concert. If the individual is older than 18, they can enter the ACDC concert. If they are 18 or younger, they cannot enter the concert.\n",
    "\n",
    "We can use the condition statements learned before as the conditions that need to be checked in the **if statement**. The syntax is as simple as <code> if <i>condition statement</i> :</code>, which contains a word <code>if</code>, any condition statement, and a colon at the end. Start your tasks which need to be executed under this condition in a new line with an indent. The lines of code after the colon and with an indent will only be executed when the **if statement** is **True**. The tasks will end when the line of code does not contain the indent.\n",
    "\n",
    "In the case below, the code <code>print(“you can enter”)</code> is executed only if the variable <code>age</code> is greater than 18 is a True case because this line of code has the indent. However, the execution of <code>print(“move on”)</code> will not be influenced by the if statement.\n"
   ]
  },
  {
   "cell_type": "code",
   "execution_count": 10,
   "id": "d5821537",
   "metadata": {
    "execution": {
     "iopub.execute_input": "2025-04-18T21:35:12.309653Z",
     "iopub.status.busy": "2025-04-18T21:35:12.308770Z",
     "iopub.status.idle": "2025-04-18T21:35:12.315062Z",
     "shell.execute_reply": "2025-04-18T21:35:12.313806Z"
    },
    "papermill": {
     "duration": 0.019647,
     "end_time": "2025-04-18T21:35:12.316976",
     "exception": false,
     "start_time": "2025-04-18T21:35:12.297329",
     "status": "completed"
    },
    "tags": []
   },
   "outputs": [
    {
     "name": "stdout",
     "output_type": "stream",
     "text": [
      "you can enter\n",
      "move on\n"
     ]
    }
   ],
   "source": [
    "# If statement example\n",
    "\n",
    "age = 19\n",
    "#age = 18\n",
    "\n",
    "#expression that can be true or false\n",
    "if age > 18:\n",
    "    \n",
    "    #within an indent, we have the expression that is run if the condition is true\n",
    "    print(\"you can enter\" )\n",
    "\n",
    "#The statements after the if statement will run regardless if the condition is true or false \n",
    "print(\"move on\")"
   ]
  },
  {
   "cell_type": "markdown",
   "id": "79de45da",
   "metadata": {
    "papermill": {
     "duration": 0.010474,
     "end_time": "2025-04-18T21:35:12.338352",
     "exception": false,
     "start_time": "2025-04-18T21:35:12.327878",
     "status": "completed"
    },
    "tags": []
   },
   "source": [
    "<i>Try uncommenting the age variable</i>\n"
   ]
  },
  {
   "cell_type": "markdown",
   "id": "b5f37cb0",
   "metadata": {
    "papermill": {
     "duration": 0.011027,
     "end_time": "2025-04-18T21:35:12.360132",
     "exception": false,
     "start_time": "2025-04-18T21:35:12.349105",
     "status": "completed"
    },
    "tags": []
   },
   "source": [
    "It is helpful to use the following diagram to illustrate the process. On the left side, we see what happens when the condition is <b>True</b>.  The person enters the ACDC concert representing the code in the indent being executed; they then move on. On the right side, we see what happens when the condition is <b>False</b>; the person is not granted access, and the person moves on. In this case, the segment of code in the indent does not run, but the rest of the statements are run. \n"
   ]
  },
  {
   "cell_type": "markdown",
   "id": "1ebdc461",
   "metadata": {
    "papermill": {
     "duration": 0.010815,
     "end_time": "2025-04-18T21:35:12.381566",
     "exception": false,
     "start_time": "2025-04-18T21:35:12.370751",
     "status": "completed"
    },
    "tags": []
   },
   "source": [
    "<img src=\"https://cf-courses-data.s3.us.cloud-object-storage.appdomain.cloud/IBMDeveloperSkillsNetwork-PY0101EN-SkillsNetwork/labs/Module%203/images/CondsIf.gif\" width=\"650\">\n"
   ]
  },
  {
   "cell_type": "markdown",
   "id": "5e2d09d5",
   "metadata": {
    "papermill": {
     "duration": 0.010269,
     "end_time": "2025-04-18T21:35:12.402488",
     "exception": false,
     "start_time": "2025-04-18T21:35:12.392219",
     "status": "completed"
    },
    "tags": []
   },
   "source": [
    "The <code>else</code> statement runs a block of code if none of the conditions are **True** before this <code>else</code> statement. Let's use the ACDC concert analogy again. If the user is 17 they cannot go to the ACDC concert,  but they can go to the Meatloaf concert.\n",
    "The syntax of the <code>else</code> statement is similar as the syntax of the <code>if</code> statement, as <code>else :</code>. Notice that, there is no condition statement for <code>else</code>.\n",
    "Try changing the values of <code>age</code> to see what happens:  \n"
   ]
  },
  {
   "cell_type": "code",
   "execution_count": 11,
   "id": "4ed06b17",
   "metadata": {
    "execution": {
     "iopub.execute_input": "2025-04-18T21:35:12.425070Z",
     "iopub.status.busy": "2025-04-18T21:35:12.424709Z",
     "iopub.status.idle": "2025-04-18T21:35:12.430586Z",
     "shell.execute_reply": "2025-04-18T21:35:12.429428Z"
    },
    "papermill": {
     "duration": 0.019333,
     "end_time": "2025-04-18T21:35:12.432390",
     "exception": false,
     "start_time": "2025-04-18T21:35:12.413057",
     "status": "completed"
    },
    "tags": []
   },
   "outputs": [
    {
     "name": "stdout",
     "output_type": "stream",
     "text": [
      "go see Meat Loaf\n",
      "move on\n"
     ]
    }
   ],
   "source": [
    "# Else statement example\n",
    "\n",
    "age = 18\n",
    "# age = 19\n",
    "\n",
    "if age > 18:\n",
    "    print(\"you can enter\" )\n",
    "else:\n",
    "    print(\"go see Meat Loaf\" )\n",
    "    \n",
    "print(\"move on\")"
   ]
  },
  {
   "cell_type": "markdown",
   "id": "a588b406",
   "metadata": {
    "papermill": {
     "duration": 0.01049,
     "end_time": "2025-04-18T21:35:12.454283",
     "exception": false,
     "start_time": "2025-04-18T21:35:12.443793",
     "status": "completed"
    },
    "tags": []
   },
   "source": [
    "The process is demonstrated below, where each of the possibilities is illustrated on each side of the image. On the left is the case where the age is 17, we set the variable age to 17, and this corresponds to the individual attending the Meatloaf concert. The right portion shows what happens when the individual is over 18, in this case 19, and the individual is granted access to the concert.\n"
   ]
  },
  {
   "cell_type": "markdown",
   "id": "9db73fff",
   "metadata": {
    "papermill": {
     "duration": 0.010641,
     "end_time": "2025-04-18T21:35:12.475809",
     "exception": false,
     "start_time": "2025-04-18T21:35:12.465168",
     "status": "completed"
    },
    "tags": []
   },
   "source": [
    "<img src=\"https://cf-courses-data.s3.us.cloud-object-storage.appdomain.cloud/IBMDeveloperSkillsNetwork-PY0101EN-SkillsNetwork/labs/Module%203/images/CondsElse.gif\" width=\"650\">\n"
   ]
  },
  {
   "cell_type": "markdown",
   "id": "fbe23839",
   "metadata": {
    "papermill": {
     "duration": 0.010372,
     "end_time": "2025-04-18T21:35:12.497422",
     "exception": false,
     "start_time": "2025-04-18T21:35:12.487050",
     "status": "completed"
    },
    "tags": []
   },
   "source": [
    "The <code>elif</code> statement, short for else if, allows us to check additional conditions if the condition statements before it are <b>False</b>. If the condition for the <code>elif</code> statement is <b>True</b>, the alternate expressions will be run. Consider the concert example, where if the individual is 18 they will go to the Pink Floyd concert instead of attending the ACDC or Meat-loaf concert. A person that is 18 years of age enters the area, and as they are not older than 18 they can not see ACDC, but since they are 18 years of age, they attend  Pink Floyd. After seeing Pink Floyd, they move on. The syntax of the <code>elif</code> statement is similar in that we merely change the <code>if</code> in the <code>if</code> statement to <code>elif</code>.\n"
   ]
  },
  {
   "cell_type": "code",
   "execution_count": 12,
   "id": "a01d8d28",
   "metadata": {
    "execution": {
     "iopub.execute_input": "2025-04-18T21:35:12.520093Z",
     "iopub.status.busy": "2025-04-18T21:35:12.519744Z",
     "iopub.status.idle": "2025-04-18T21:35:12.525448Z",
     "shell.execute_reply": "2025-04-18T21:35:12.524297Z"
    },
    "papermill": {
     "duration": 0.018908,
     "end_time": "2025-04-18T21:35:12.526970",
     "exception": false,
     "start_time": "2025-04-18T21:35:12.508062",
     "status": "completed"
    },
    "tags": []
   },
   "outputs": [
    {
     "name": "stdout",
     "output_type": "stream",
     "text": [
      "go see Pink Floyd\n",
      "move on\n"
     ]
    }
   ],
   "source": [
    "# Elif statment example\n",
    "\n",
    "age = 18\n",
    "\n",
    "if age > 18:\n",
    "    print(\"you can enter\" )\n",
    "elif age == 18:\n",
    "    print(\"go see Pink Floyd\")\n",
    "else:\n",
    "    print(\"go see Meat Loaf\" )\n",
    "    \n",
    "print(\"move on\")"
   ]
  },
  {
   "cell_type": "markdown",
   "id": "1ec8b1b2",
   "metadata": {
    "papermill": {
     "duration": 0.010374,
     "end_time": "2025-04-18T21:35:12.548096",
     "exception": false,
     "start_time": "2025-04-18T21:35:12.537722",
     "status": "completed"
    },
    "tags": []
   },
   "source": [
    "The three combinations are shown in the figure below.  The left-most region shows what happens when the individual is less than 18 years of age. The central component shows when the individual is exactly 18. The rightmost shows when the individual is over 18.\n"
   ]
  },
  {
   "cell_type": "markdown",
   "id": "a2a87ce2",
   "metadata": {
    "papermill": {
     "duration": 0.01049,
     "end_time": "2025-04-18T21:35:12.569162",
     "exception": false,
     "start_time": "2025-04-18T21:35:12.558672",
     "status": "completed"
    },
    "tags": []
   },
   "source": [
    "<img src=\"https://cf-courses-data.s3.us.cloud-object-storage.appdomain.cloud/IBMDeveloperSkillsNetwork-PY0101EN-SkillsNetwork/labs/Module%203/images/CondsElif.gif\" width=\"650\">\n"
   ]
  },
  {
   "cell_type": "markdown",
   "id": "f08c535a",
   "metadata": {
    "papermill": {
     "duration": 0.010572,
     "end_time": "2025-04-18T21:35:12.590330",
     "exception": false,
     "start_time": "2025-04-18T21:35:12.579758",
     "status": "completed"
    },
    "tags": []
   },
   "source": [
    " Look at the following code:\n"
   ]
  },
  {
   "cell_type": "code",
   "execution_count": 13,
   "id": "0de583d9",
   "metadata": {
    "execution": {
     "iopub.execute_input": "2025-04-18T21:35:12.612943Z",
     "iopub.status.busy": "2025-04-18T21:35:12.612591Z",
     "iopub.status.idle": "2025-04-18T21:35:12.617966Z",
     "shell.execute_reply": "2025-04-18T21:35:12.616767Z"
    },
    "papermill": {
     "duration": 0.018669,
     "end_time": "2025-04-18T21:35:12.619475",
     "exception": false,
     "start_time": "2025-04-18T21:35:12.600806",
     "status": "completed"
    },
    "tags": []
   },
   "outputs": [
    {
     "name": "stdout",
     "output_type": "stream",
     "text": [
      "do something..\n"
     ]
    }
   ],
   "source": [
    "# Condition statement example\n",
    "\n",
    "album_year = 1983\n",
    "album_year = 1970\n",
    "\n",
    "if album_year > 1980:\n",
    "    print(\"Album year is greater than 1980\")\n",
    "    \n",
    "print('do something..')"
   ]
  },
  {
   "cell_type": "markdown",
   "id": "5441c903",
   "metadata": {
    "papermill": {
     "duration": 0.011232,
     "end_time": "2025-04-18T21:35:12.642487",
     "exception": false,
     "start_time": "2025-04-18T21:35:12.631255",
     "status": "completed"
    },
    "tags": []
   },
   "source": [
    "Feel free to change <code>album_year</code> value to other values -- you'll see that the result changes!\n"
   ]
  },
  {
   "cell_type": "markdown",
   "id": "bca799ef",
   "metadata": {
    "papermill": {
     "duration": 0.010467,
     "end_time": "2025-04-18T21:35:12.663552",
     "exception": false,
     "start_time": "2025-04-18T21:35:12.653085",
     "status": "completed"
    },
    "tags": []
   },
   "source": [
    "Notice that the code in the above <b>indented</b> block will only be executed if the results are <b>True</b>. \n"
   ]
  },
  {
   "cell_type": "markdown",
   "id": "a4a11777",
   "metadata": {
    "papermill": {
     "duration": 0.010938,
     "end_time": "2025-04-18T21:35:12.685100",
     "exception": false,
     "start_time": "2025-04-18T21:35:12.674162",
     "status": "completed"
    },
    "tags": []
   },
   "source": [
    "As before, we can add an <code>else</code> block to the <code>if</code> block. The code in the <code>else</code> block will only be executed if the result is <b>False</b>.\n",
    "\n",
    "\n",
    "<b>Syntax:</b> \n",
    "\n",
    "if (condition):\n",
    "    # do something\n",
    "else:\n",
    "    # do something else\n"
   ]
  },
  {
   "cell_type": "markdown",
   "id": "fbfec329",
   "metadata": {
    "papermill": {
     "duration": 0.010555,
     "end_time": "2025-04-18T21:35:12.706177",
     "exception": false,
     "start_time": "2025-04-18T21:35:12.695622",
     "status": "completed"
    },
    "tags": []
   },
   "source": [
    "If the condition in the <code>if</code> statement is <b>False</b>, the statement after the <code>else</code> block will execute. This is demonstrated in the figure: \n"
   ]
  },
  {
   "cell_type": "markdown",
   "id": "0e7648c6",
   "metadata": {
    "papermill": {
     "duration": 0.01068,
     "end_time": "2025-04-18T21:35:12.728085",
     "exception": false,
     "start_time": "2025-04-18T21:35:12.717405",
     "status": "completed"
    },
    "tags": []
   },
   "source": [
    "<img src=\"https://cf-courses-data.s3.us.cloud-object-storage.appdomain.cloud/IBMDeveloperSkillsNetwork-PY0101EN-SkillsNetwork/labs/Module%203/images/CondsLogicMap.png\" width=\"650\">\n"
   ]
  },
  {
   "cell_type": "code",
   "execution_count": 14,
   "id": "a4d67dac",
   "metadata": {
    "execution": {
     "iopub.execute_input": "2025-04-18T21:35:12.751248Z",
     "iopub.status.busy": "2025-04-18T21:35:12.750870Z",
     "iopub.status.idle": "2025-04-18T21:35:12.756528Z",
     "shell.execute_reply": "2025-04-18T21:35:12.755482Z"
    },
    "papermill": {
     "duration": 0.018832,
     "end_time": "2025-04-18T21:35:12.757911",
     "exception": false,
     "start_time": "2025-04-18T21:35:12.739079",
     "status": "completed"
    },
    "tags": []
   },
   "outputs": [
    {
     "name": "stdout",
     "output_type": "stream",
     "text": [
      "Album year is greater than 1980\n",
      "do something..\n"
     ]
    }
   ],
   "source": [
    "# Condition statement example\n",
    "\n",
    "album_year = 1983\n",
    "#album_year = 1970\n",
    "\n",
    "if album_year > 1980:\n",
    "    print(\"Album year is greater than 1980\")\n",
    "else:\n",
    "    print(\"less than 1980\")\n",
    "\n",
    "print('do something..')"
   ]
  },
  {
   "cell_type": "markdown",
   "id": "84809940",
   "metadata": {
    "papermill": {
     "duration": 0.010422,
     "end_time": "2025-04-18T21:35:12.779123",
     "exception": false,
     "start_time": "2025-04-18T21:35:12.768701",
     "status": "completed"
    },
    "tags": []
   },
   "source": [
    "Feel free to change the <code>album_year</code> value to other values -- you'll see that the result changes based on it!\n"
   ]
  },
  {
   "cell_type": "markdown",
   "id": "2cca789b",
   "metadata": {
    "papermill": {
     "duration": 0.012885,
     "end_time": "2025-04-18T21:35:12.805885",
     "exception": false,
     "start_time": "2025-04-18T21:35:12.793000",
     "status": "completed"
    },
    "tags": []
   },
   "source": [
    "<h3 id=\"logic\">Logical operators</h3>\n"
   ]
  },
  {
   "cell_type": "markdown",
   "id": "764e9cc1",
   "metadata": {
    "papermill": {
     "duration": 0.010885,
     "end_time": "2025-04-18T21:35:12.829114",
     "exception": false,
     "start_time": "2025-04-18T21:35:12.818229",
     "status": "completed"
    },
    "tags": []
   },
   "source": [
    "\n",
    "Sometimes you want to check more than one condition at once. For example, you might want to check if one condition and another condition are both **True**. Logical operators allow you to combine or modify conditions.\n",
    "<ul>\n",
    "    <li><code>and</code></li>\n",
    "    <li><code>or</code></li>\n",
    "    <li><code>not</code></li>\n",
    "</ul>\n",
    "\n",
    "These operators are summarized for two variables using the following truth tables:  \n"
   ]
  },
  {
   "cell_type": "markdown",
   "id": "9527aa0b",
   "metadata": {
    "papermill": {
     "duration": 0.011227,
     "end_time": "2025-04-18T21:35:12.851042",
     "exception": false,
     "start_time": "2025-04-18T21:35:12.839815",
     "status": "completed"
    },
    "tags": []
   },
   "source": [
    "<img src=\"https://cf-courses-data.s3.us.cloud-object-storage.appdomain.cloud/IBMDeveloperSkillsNetwork-PY0101EN-SkillsNetwork/labs/Module%203/images/CondsTable.png\" width=\"650\">\n"
   ]
  },
  {
   "cell_type": "markdown",
   "id": "96452f97",
   "metadata": {
    "papermill": {
     "duration": 0.011186,
     "end_time": "2025-04-18T21:35:12.874346",
     "exception": false,
     "start_time": "2025-04-18T21:35:12.863160",
     "status": "completed"
    },
    "tags": []
   },
   "source": [
    "The <code>and</code> statement is only **True** when both conditions are true. The <code>or</code> statement is True if one condition, or both are **True**. The <code>not</code> statement outputs the opposite truth value.\n"
   ]
  },
  {
   "cell_type": "markdown",
   "id": "b40276c4",
   "metadata": {
    "papermill": {
     "duration": 0.011841,
     "end_time": "2025-04-18T21:35:12.897709",
     "exception": false,
     "start_time": "2025-04-18T21:35:12.885868",
     "status": "completed"
    },
    "tags": []
   },
   "source": [
    "Let's see how to determine if an album was released after 1979 (1979 is not included) and before 1990 (1990 is not included). The time periods between 1980 and 1989 satisfy this condition. This is demonstrated in the figure below. The green on lines <strong>a</strong> and <strong>b</strong> represents periods where the statement is **True**. The green on line <strong>c</strong> represents where both conditions are **True**, this corresponds to where the green regions overlap. \n",
    "\n"
   ]
  },
  {
   "cell_type": "markdown",
   "id": "a6629f9d",
   "metadata": {
    "papermill": {
     "duration": 0.011325,
     "end_time": "2025-04-18T21:35:12.921315",
     "exception": false,
     "start_time": "2025-04-18T21:35:12.909990",
     "status": "completed"
    },
    "tags": []
   },
   "source": [
    "<img src=\"https://cf-courses-data.s3.us.cloud-object-storage.appdomain.cloud/IBMDeveloperSkillsNetwork-PY0101EN-SkillsNetwork/labs/Module%203/images/CondsEgOne.png\" width=\"650\">\n"
   ]
  },
  {
   "cell_type": "markdown",
   "id": "bdba1bde",
   "metadata": {
    "papermill": {
     "duration": 0.010992,
     "end_time": "2025-04-18T21:35:12.944175",
     "exception": false,
     "start_time": "2025-04-18T21:35:12.933183",
     "status": "completed"
    },
    "tags": []
   },
   "source": [
    " The block of code to perform this check is given by:\n"
   ]
  },
  {
   "cell_type": "code",
   "execution_count": 15,
   "id": "6a28a1d5",
   "metadata": {
    "execution": {
     "iopub.execute_input": "2025-04-18T21:35:12.968309Z",
     "iopub.status.busy": "2025-04-18T21:35:12.967963Z",
     "iopub.status.idle": "2025-04-18T21:35:12.974023Z",
     "shell.execute_reply": "2025-04-18T21:35:12.973050Z"
    },
    "papermill": {
     "duration": 0.019395,
     "end_time": "2025-04-18T21:35:12.975579",
     "exception": false,
     "start_time": "2025-04-18T21:35:12.956184",
     "status": "completed"
    },
    "tags": []
   },
   "outputs": [
    {
     "name": "stdout",
     "output_type": "stream",
     "text": [
      "Album year was in between 1980 and 1989\n",
      "\n",
      "Do Stuff..\n"
     ]
    }
   ],
   "source": [
    "# Condition statement example\n",
    "\n",
    "album_year = 1980\n",
    "\n",
    "if(album_year > 1979) and (album_year < 1990):\n",
    "    print (\"Album year was in between 1980 and 1989\")\n",
    "    \n",
    "print(\"\")\n",
    "print(\"Do Stuff..\")"
   ]
  },
  {
   "cell_type": "markdown",
   "id": "cc0aad58",
   "metadata": {
    "papermill": {
     "duration": 0.01154,
     "end_time": "2025-04-18T21:35:12.998235",
     "exception": false,
     "start_time": "2025-04-18T21:35:12.986695",
     "status": "completed"
    },
    "tags": []
   },
   "source": [
    "To determine if an album was released before 1980 (1979 and earlier) or after 1989 (1990 and onward ), an or statement can be used. Periods before 1980 (1979 and earlier) or after 1989 (1990 and onward) satisfy this condition. This is demonstrated in the following figure, the color green in <strong>a</strong> and <strong>b</strong> represents periods where the statement is true. The color green in **c** represents where at least one of the conditions \n",
    "are true.  \n"
   ]
  },
  {
   "cell_type": "markdown",
   "id": "29e2cb38",
   "metadata": {
    "papermill": {
     "duration": 0.010801,
     "end_time": "2025-04-18T21:35:13.021512",
     "exception": false,
     "start_time": "2025-04-18T21:35:13.010711",
     "status": "completed"
    },
    "tags": []
   },
   "source": [
    "<img src=\"https://cf-courses-data.s3.us.cloud-object-storage.appdomain.cloud/IBMDeveloperSkillsNetwork-PY0101EN-SkillsNetwork/labs/Module%203/images/CondsEgTwo.png\" width=\"650\">\n"
   ]
  },
  {
   "cell_type": "markdown",
   "id": "76377e3c",
   "metadata": {
    "papermill": {
     "duration": 0.010858,
     "end_time": "2025-04-18T21:35:13.043203",
     "exception": false,
     "start_time": "2025-04-18T21:35:13.032345",
     "status": "completed"
    },
    "tags": []
   },
   "source": [
    "The block of code to perform this check is given by:\n"
   ]
  },
  {
   "cell_type": "code",
   "execution_count": 16,
   "id": "7d624e31",
   "metadata": {
    "execution": {
     "iopub.execute_input": "2025-04-18T21:35:13.066739Z",
     "iopub.status.busy": "2025-04-18T21:35:13.066410Z",
     "iopub.status.idle": "2025-04-18T21:35:13.071963Z",
     "shell.execute_reply": "2025-04-18T21:35:13.070728Z"
    },
    "papermill": {
     "duration": 0.019081,
     "end_time": "2025-04-18T21:35:13.073331",
     "exception": false,
     "start_time": "2025-04-18T21:35:13.054250",
     "status": "completed"
    },
    "tags": []
   },
   "outputs": [
    {
     "name": "stdout",
     "output_type": "stream",
     "text": [
      "Album was not made in the 1980's\n"
     ]
    }
   ],
   "source": [
    "# Condition statement example\n",
    "\n",
    "album_year = 1990\n",
    "\n",
    "if(album_year < 1980) or (album_year > 1989):\n",
    "    print (\"Album was not made in the 1980's\")\n",
    "else:\n",
    "    print(\"The Album was made in the 1980's \")"
   ]
  },
  {
   "cell_type": "markdown",
   "id": "23476e3d",
   "metadata": {
    "papermill": {
     "duration": 0.010915,
     "end_time": "2025-04-18T21:35:13.095353",
     "exception": false,
     "start_time": "2025-04-18T21:35:13.084438",
     "status": "completed"
    },
    "tags": []
   },
   "source": [
    "The <code>not</code> statement checks if the statement is false:\n"
   ]
  },
  {
   "cell_type": "code",
   "execution_count": 17,
   "id": "47c73283",
   "metadata": {
    "execution": {
     "iopub.execute_input": "2025-04-18T21:35:13.121134Z",
     "iopub.status.busy": "2025-04-18T21:35:13.120809Z",
     "iopub.status.idle": "2025-04-18T21:35:13.126291Z",
     "shell.execute_reply": "2025-04-18T21:35:13.124906Z"
    },
    "papermill": {
     "duration": 0.019642,
     "end_time": "2025-04-18T21:35:13.128070",
     "exception": false,
     "start_time": "2025-04-18T21:35:13.108428",
     "status": "completed"
    },
    "tags": []
   },
   "outputs": [
    {
     "name": "stdout",
     "output_type": "stream",
     "text": [
      "Album year is not 1984\n"
     ]
    }
   ],
   "source": [
    "# Condition statement example\n",
    "\n",
    "album_year = 1983\n",
    "\n",
    "if not (album_year == 1984):\n",
    "    print (\"Album year is not 1984\")"
   ]
  },
  {
   "cell_type": "markdown",
   "id": "726c44cf",
   "metadata": {
    "papermill": {
     "duration": 0.010958,
     "end_time": "2025-04-18T21:35:13.151493",
     "exception": false,
     "start_time": "2025-04-18T21:35:13.140535",
     "status": "completed"
    },
    "tags": []
   },
   "source": [
    "<hr>\n"
   ]
  },
  {
   "cell_type": "markdown",
   "id": "0669d707",
   "metadata": {
    "papermill": {
     "duration": 0.010805,
     "end_time": "2025-04-18T21:35:13.173520",
     "exception": false,
     "start_time": "2025-04-18T21:35:13.162715",
     "status": "completed"
    },
    "tags": []
   },
   "source": [
    "<h2 id=\"quiz\">Practise Exercises</h2>\n"
   ]
  },
  {
   "cell_type": "markdown",
   "id": "ab49bf3a",
   "metadata": {
    "papermill": {
     "duration": 0.010787,
     "end_time": "2025-04-18T21:35:13.195592",
     "exception": false,
     "start_time": "2025-04-18T21:35:13.184805",
     "status": "completed"
    },
    "tags": []
   },
   "source": [
    "##### 1. There are 2 sisters, Annie and Jane, born in 1996 and 1999 respectively. They want to know who was born in a leap year. Write an if-else statement to determine who was born in a leap year.\n"
   ]
  },
  {
   "cell_type": "code",
   "execution_count": 18,
   "id": "75472b3a",
   "metadata": {
    "execution": {
     "iopub.execute_input": "2025-04-18T21:35:13.218910Z",
     "iopub.status.busy": "2025-04-18T21:35:13.218595Z",
     "iopub.status.idle": "2025-04-18T21:35:13.222544Z",
     "shell.execute_reply": "2025-04-18T21:35:13.221710Z"
    },
    "papermill": {
     "duration": 0.017537,
     "end_time": "2025-04-18T21:35:13.223956",
     "exception": false,
     "start_time": "2025-04-18T21:35:13.206419",
     "status": "completed"
    },
    "tags": []
   },
   "outputs": [],
   "source": [
    "# Write your code below and press Shift+Enter to execute\n"
   ]
  },
  {
   "cell_type": "markdown",
   "id": "fee304cb",
   "metadata": {
    "papermill": {
     "duration": 0.010687,
     "end_time": "2025-04-18T21:35:13.245674",
     "exception": false,
     "start_time": "2025-04-18T21:35:13.234987",
     "status": "completed"
    },
    "tags": []
   },
   "source": [
    "<details><summary>Click here for the hint</summary>\n",
    "\n",
    "A leap year is one that is divisible by 4\n",
    "\n",
    "</details>\n"
   ]
  },
  {
   "cell_type": "markdown",
   "id": "7f0709c1",
   "metadata": {
    "papermill": {
     "duration": 0.010943,
     "end_time": "2025-04-18T21:35:13.267725",
     "exception": false,
     "start_time": "2025-04-18T21:35:13.256782",
     "status": "completed"
    },
    "tags": []
   },
   "source": [
    "<details><summary>Click here for the solution</summary>\n",
    "\n",
    "```python\n",
    "Annie=1996\n",
    "Jane=1999\n",
    "if Annie%4==0:\n",
    "    print(\"Annie was born in a leap year\")\n",
    "elif Jane%4==0:\n",
    "    print(\"Jane was born in a leap year\")\n",
    "else:\n",
    "    print(\"None of them were born in a leap year\")\n",
    "\n",
    "```\n",
    "\n",
    "</details>\n"
   ]
  },
  {
   "cell_type": "markdown",
   "id": "3f619091",
   "metadata": {},
   "source": [
    "##### 2. Similar to previous number, create if-else statement program that help us identify between Annie and Jane, who are older and how old is the oldest from the two now in **2025** "
   ]
  },
  {
   "cell_type": "code",
   "execution_count": null,
   "id": "304638e9",
   "metadata": {},
   "outputs": [],
   "source": []
  },
  {
   "cell_type": "markdown",
   "id": "8114f8f3",
   "metadata": {
    "papermill": {
     "duration": 0.015138,
     "end_time": "2025-04-18T21:35:13.294229",
     "exception": false,
     "start_time": "2025-04-18T21:35:13.279091",
     "status": "completed"
    },
    "tags": []
   },
   "source": [
    "##### 3. In a school canteen, children under the age of 9 are only given milk porridge for breakfast. Children from 10 to 14 are given a sandwich, and children from 15 to 17 are given a burger. The canteen master asks the age of the student and gives them breakfast accordingly. **Sam's age is 10**. Use if-else statement to determine what the canteen master will offer to him.\n"
   ]
  },
  {
   "cell_type": "code",
   "execution_count": 19,
   "id": "eb751868",
   "metadata": {
    "execution": {
     "iopub.execute_input": "2025-04-18T21:35:13.332219Z",
     "iopub.status.busy": "2025-04-18T21:35:13.331902Z",
     "iopub.status.idle": "2025-04-18T21:35:13.336978Z",
     "shell.execute_reply": "2025-04-18T21:35:13.335927Z"
    },
    "papermill": {
     "duration": 0.030153,
     "end_time": "2025-04-18T21:35:13.339170",
     "exception": false,
     "start_time": "2025-04-18T21:35:13.309017",
     "status": "completed"
    },
    "tags": []
   },
   "outputs": [],
   "source": [
    "# Write your code below and press Shift+Enter to execute\n"
   ]
  },
  {
   "cell_type": "markdown",
   "id": "9d35e71c",
   "metadata": {
    "papermill": {
     "duration": 0.011375,
     "end_time": "2025-04-18T21:35:13.367233",
     "exception": false,
     "start_time": "2025-04-18T21:35:13.355858",
     "status": "completed"
    },
    "tags": []
   },
   "source": [
    "<details><summary>Click here for the hint</summary>\n",
    "\n",
    "<p>For each range of age, create an if condition and print what the student will get according to their age<p>\n",
    "\n",
    "</details>\n"
   ]
  },
  {
   "cell_type": "markdown",
   "id": "3ad306c6",
   "metadata": {
    "papermill": {
     "duration": 0.011473,
     "end_time": "2025-04-18T21:35:13.391650",
     "exception": false,
     "start_time": "2025-04-18T21:35:13.380177",
     "status": "completed"
    },
    "tags": []
   },
   "source": [
    "<details><summary>Click here for the solution</summary>\n",
    "\n",
    "```python\n",
    "age = 10\n",
    "if age <=9:\n",
    "    print (\"You will get a bowl of porridge!\")\n",
    "elif age>=10 and age<=14:\n",
    "    print (\"You will get a sandwich!\")\n",
    "elif age>=15 and age<=17:\n",
    "    print(\"You will get a burger!\")\n",
    "    \n",
    "```\n",
    "\n",
    "</details>\n"
   ]
  }
 ],
 "metadata": {
  "kaggle": {
   "accelerator": "none",
   "dataSources": [],
   "dockerImageVersionId": 31012,
   "isGpuEnabled": false,
   "isInternetEnabled": true,
   "language": "python",
   "sourceType": "notebook"
  },
  "kernelspec": {
   "display_name": "Python 3",
   "language": "python",
   "name": "python3"
  },
  "language_info": {
   "codemirror_mode": {
    "name": "ipython",
    "version": 3
   },
   "file_extension": ".py",
   "mimetype": "text/x-python",
   "name": "python",
   "nbconvert_exporter": "python",
   "pygments_lexer": "ipython3",
   "version": "3.11.11"
  },
  "papermill": {
   "default_parameters": {},
   "duration": 10.226001,
   "end_time": "2025-04-18T21:35:16.394060",
   "environment_variables": {},
   "exception": null,
   "input_path": "__notebook__.ipynb",
   "output_path": "__notebook__.ipynb",
   "parameters": {},
   "start_time": "2025-04-18T21:35:06.168059",
   "version": "2.6.0"
  }
 },
 "nbformat": 4,
 "nbformat_minor": 5
}
