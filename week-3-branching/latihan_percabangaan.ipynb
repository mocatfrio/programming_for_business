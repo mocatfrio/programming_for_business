{
 "cells": [
  {
   "cell_type": "markdown",
   "id": "12078082",
   "metadata": {},
   "source": [
    "### 1. Arif dan si Komputer Pemandu Ganjil-Genap\n",
    "Arif sedang bermain dengan angka di komputernya. Setiap kali ia mengetik sebuah angka, program seharusnya memberitahukan sesuatu yang bermakna. Jika angkanya positif, program perlu memberi tahu apakah angka tersebut genap atau ganjil. Jika ia mengetik angka nol, program harus mengingatkan bahwa nol bukanlah bilangan genap maupun ganjil. Dan ketika Arif mencoba angka negatif, program cukup menjawab bahwa itu adalah bilangan negatif. Buatlah program yang bisa menunjukkan pengingatan sesuai aturan diatas apabila diketahui angka yang dimasukkan Arif adalah **17**\n",
    "\n",
    "\n"
   ]
  },
  {
   "cell_type": "code",
   "execution_count": null,
   "id": "41cae47a",
   "metadata": {},
   "outputs": [],
   "source": [
    "# Masukkan jawaban Anda di sini"
   ]
  },
  {
   "cell_type": "markdown",
   "id": "c7270202",
   "metadata": {},
   "source": [
    "### 2. Siti: Berapa predikat ujianku?\n",
    "Siti baru saja menerima hasil ujiannya, dan ia penasaran ingin tahu nilainya. Gurunya menggunakan sistem penilaian tertentu, di mana nilai tertinggi mendapatkan A, kemudian B, C, D, dan yang terendah adalah F. Komputer seharusnya bisa menerima nilai ujian Siti sebagai input dan langsung menentukan huruf nilai yang sesuai. Buatlah program yang dapat membantu Siti melihat nilainya tanpa harus menunggu perhitungan dari guru apabila diketahui nilai Siti adalah **82**\n"
   ]
  },
  {
   "cell_type": "code",
   "execution_count": null,
   "id": "f7809378",
   "metadata": {},
   "outputs": [],
   "source": [
    "# Masukkan jawaban Anda di sini"
   ]
  },
  {
   "cell_type": "markdown",
   "id": "bed5c29d",
   "metadata": {},
   "source": [
    "### 3. Bantu Manajer menghitung Tahun\n",
    "Di sebuah agen perjalanan, manajer perlu mengetahui apakah bulan Februari pada tahun tertentu memiliki 28 hari atau 29 hari untuk merencanakan paket liburan. Aturan menentukan tahun kabisat agak rumit: tahun yang habis dibagi 4 biasanya adalah tahun kabisat, tetapi jika tahun tersebut juga habis dibagi 100, maka bukan tahun kabisat, kecuali juga habis dibagi 400. Buatlah program yang memungkinkan manajer mengetik tahun tertentu dan langsung mengetahui apakah tahun itu tahun kabisat atau bukan apabila diketahui tahun ini adalah tahun **2025**\n"
   ]
  },
  {
   "cell_type": "code",
   "execution_count": null,
   "id": "ada147fd",
   "metadata": {},
   "outputs": [],
   "source": [
    "# Masukkan jawaban Anda di sini"
   ]
  },
  {
   "cell_type": "markdown",
   "id": "0811ac7e",
   "metadata": {},
   "source": [
    "### 4. Budi si pencari Diskon\n",
    "Budi pergi berbelanja di sebuah toko yang sedang mengadakan promo besar. Ia ingin tahu berapa banyak yang harus ia bayar setelah diskon diberikan. Aturannya sederhana: jika total belanja kurang dari seratus ribu rupiah, ia tidak mendapatkan diskon apa pun. Namun, jika total belanja berada di antara seratus ribu hingga empat ratus sembilan puluh sembilan ribu sembilan ratus sembilan puluh sembilan rupiah, maka ia akan menerima potongan harga sebesar sepuluh persen. Sementara itu, jika total belanja mencapai lima ratus ribu rupiah atau lebih, toko memberikan diskon sebesar dua puluh persen. Tugasmu adalah membuat sebuah program yang bisa menerima input berupa total belanja Budi, lalu menghitung dan menampilkan jumlah yang harus ia bayar setelah diskon."
   ]
  },
  {
   "cell_type": "code",
   "execution_count": null,
   "id": "94ac2860",
   "metadata": {},
   "outputs": [],
   "source": [
    "# Masukkan jawaban Anda di sini"
   ]
  },
  {
   "cell_type": "markdown",
   "id": "9607c74d",
   "metadata": {},
   "source": [
    "### 5. Rekreasi bersama Alita dan Anhara\n",
    "Di sebuah bioskop, pengunjung membayar harga tiket yang berbeda tergantung pada usia mereka. Balita di bawah lima tahun bisa masuk gratis, anak-anak berusia lima sampai tujuh belas tahun membayar tiket anak, orang dewasa berusia delapan belas sampai lima puluh sembilan tahun membayar harga penuh, dan lansia berusia enam puluh tahun ke atas mendapatkan tiket dengan harga diskon. Buatlah program yang menanyakan usia pengunjung dan memberitahukan berapa harga tiket yang harus dibayar untuk **Alita dan Anhara** apabila diketahui umur mereka masing masing adalah **8 dan 28 tahun**\n"
   ]
  },
  {
   "cell_type": "code",
   "execution_count": null,
   "id": "423a2714",
   "metadata": {},
   "outputs": [],
   "source": [
    "# Masukkan jawaban Anda di sini"
   ]
  }
 ],
 "metadata": {
  "language_info": {
   "name": "python"
  }
 },
 "nbformat": 4,
 "nbformat_minor": 5
}
