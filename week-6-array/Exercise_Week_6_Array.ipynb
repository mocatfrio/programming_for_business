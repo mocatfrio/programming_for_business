{
 "cells": [
  {
   "cell_type": "markdown",
   "id": "8cab29ef-b309-4c60-9845-fc76a24b4eab",
   "metadata": {},
   "source": [
    "# Exercise Week 6 - Array"
   ]
  },
  {
   "cell_type": "markdown",
   "id": "db738184-441e-420c-b4eb-521ad9171af2",
   "metadata": {},
   "source": [
    "1. Apabila operasi `keranjang_jeremy[2] = keranjang_pevita[5]` berarti merubah isi item ke-3 di keranjang Jeremy menjadi item apapun ke-6 di keranjang Pevita. Ubah isi keranjang Agus sehingga Apel berubah menjadi Pisang seperti yang ada di keranjang Fatmawati dengan menggunakan logika yang sama "
   ]
  },
  {
   "cell_type": "code",
   "execution_count": 2,
   "id": "73191c0a-c66d-4e9a-8757-2bc6c777327e",
   "metadata": {},
   "outputs": [],
   "source": [
    "import numpy as np\n",
    "\n",
    "keranjang_agus = np.array(['Anggur', 'Pepaya', 'Kiwi', 'Apel', 'Mentimun'])\n",
    "keranjang_fatmawati = np.array(['Stroberi', 'Blewah', 'Mentega', 'Kiwi', 'Anggur', 'Nanas', 'Seledri', 'Kentang', 'Pisang'])\n",
    "\n",
    "# Jawab dibawah ini"
   ]
  },
  {
   "cell_type": "markdown",
   "id": "7fedc57e-bbc2-4dc2-8261-a5eb177d54aa",
   "metadata": {},
   "source": [
    "2. Identifikasi lokasi angka 105 dalam matriks 2-dimensi dibawah ini dan ubahlah angkanya menjadi 75 dengan mengidentifikasi indeks baris dan kolomnya, kemudian kalikan matriks 2-dimensi dengan matriks 2-dimensi dengan ukuran yang sama yang boleh anda buat sendiri "
   ]
  },
  {
   "cell_type": "code",
   "execution_count": 3,
   "id": "143b198d-b4d4-48eb-9e4a-3f031bd88e3c",
   "metadata": {},
   "outputs": [],
   "source": [
    "import numpy as np\n",
    "\n",
    "# Matriks awal\n",
    "A = np.array([\n",
    "    [10, 25, 40, 55, 70],\n",
    "    [85, 100, 105, 120, 135],\n",
    "    [150, 165, 180, 195, 210],\n",
    "    [225, 240, 255, 270, 285],\n",
    "    [300, 315, 330, 345, 360]\n",
    "])\n",
    "\n",
    "# Jawab dibawah ini"
   ]
  },
  {
   "cell_type": "markdown",
   "id": "3568d85f-dc7d-4a67-a9ef-304c55f0a3a0",
   "metadata": {},
   "source": [
    "3.\n",
    "\n",
    "- Buat array dua dimensi 3×4 berisi angka dari 1 sampai 12 menggunakan gabungan `np.arange()` dan `np.reshape()`.\n",
    "- Identifikasi angka 9 di dalam array dan ubahlah menjadi 99.\n",
    "- Gunakan operasi `np.sqrt()` untuk menghitung akar kuadrat dari seluruh elemen array.\n",
    "\n",
    "Tampilkan hasilnya."
   ]
  },
  {
   "cell_type": "code",
   "execution_count": null,
   "id": "97109e32-c33c-4022-9e02-d02e7a384dba",
   "metadata": {},
   "outputs": [],
   "source": [
    "# Jawab dibawah ini\n",
    "\n"
   ]
  },
  {
   "cell_type": "markdown",
   "id": "dbc23fe7-bb0b-4824-a995-7092e4325f30",
   "metadata": {},
   "source": [
    "4.\n",
    "\n",
    "- Buat array B berukuran 1×6 berisi `[10, 20, 30, 40, 50, 60]`\n",
    "- Gunakan slicing untuk mengambil tiga elemen terakhir dan simpan dalam sub_B.\n",
    "- Kalikan seluruh elemen sub_B dengan 2.\n",
    "\n",
    "Tambahkan hasil sub_B yang baru ke array awal B (print hasilnya dengan `print` dengan mena"
   ]
  },
  {
   "cell_type": "code",
   "execution_count": null,
   "id": "c4c17372-5741-485a-b642-c095b018f622",
   "metadata": {},
   "outputs": [],
   "source": []
  }
 ],
 "metadata": {
  "kernelspec": {
   "display_name": "Python 3 (ipykernel)",
   "language": "python",
   "name": "python3"
  },
  "language_info": {
   "codemirror_mode": {
    "name": "ipython",
    "version": 3
   },
   "file_extension": ".py",
   "mimetype": "text/x-python",
   "name": "python",
   "nbconvert_exporter": "python",
   "pygments_lexer": "ipython3",
   "version": "3.13.5"
  }
 },
 "nbformat": 4,
 "nbformat_minor": 5
}
